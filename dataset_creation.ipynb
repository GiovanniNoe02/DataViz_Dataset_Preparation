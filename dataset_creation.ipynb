{
 "cells": [
  {
   "cell_type": "markdown",
   "id": "705da4d0",
   "metadata": {},
   "source": [
    "# Contents\n",
    "### First Section - Libraries and dataset\n",
    "#### 1.1 - Libraries\n",
    "#### 1.2 - Datasets\n",
    "##### 1.2.1 - Sources\n",
    "##### 1.2.2 - Imports\n",
    "##### 1.2.3 - Metric Groups\n",
    "### Second Section - Dataset Exploration\n",
    "#### 2.1 - Global Data on Sustainable Energy\n",
    "#### 2.2 - Global Warming Trends\n",
    "#### 2.3 - GDP of Each Country and Region\n",
    "#### 2.4 - Country Population\n",
    "### Third Section - Data Preparation\n",
    "#### 3.1 - Data Cleaning\n",
    "##### 3.1.1 - Global Data on Sustainable Energy\n",
    "##### 3.1.2 - Global Warming Trends\n",
    "##### 3.1.3 - GDP of Each Country and Region\n",
    "##### 3.1.4 - Country Population\n",
    "#### 3.2 - Data Integration\n",
    "##### 3.2.1 - Data About Russian Energy Production and CO2 Emissions\n",
    "##### 3.2.2 - Data About Russian Temperature Deviation\n",
    "##### 3.2.3 - Data About South Korean Energy Production\n",
    "### Fourth Section - Dataset Creation\n",
    "#### 4.1 - General Dataset\n",
    "#### 4.2 - Energy Dataset\n",
    "#### 4.3 - Bubble Chart Dataset"
   ]
  },
  {
   "cell_type": "markdown",
   "id": "a16d4c89",
   "metadata": {},
   "source": [
    "# First Section - Libraries and Datasets"
   ]
  },
  {
   "cell_type": "markdown",
   "id": "9aab9b6a",
   "metadata": {},
   "source": [
    "## 1.1 - Libraries"
   ]
  },
  {
   "cell_type": "code",
   "execution_count": 1,
   "id": "f8931224",
   "metadata": {},
   "outputs": [],
   "source": [
    "import pandas as pd\n",
    "import numpy as np\n",
    "\n",
    "import warnings\n",
    "warnings.filterwarnings(\"ignore\")"
   ]
  },
  {
   "cell_type": "markdown",
   "id": "2d6c765b",
   "metadata": {},
   "source": [
    "## 1.2 - Datasets"
   ]
  },
  {
   "cell_type": "markdown",
   "id": "0c234c7d",
   "metadata": {},
   "source": [
    "#### 1.2.1 - Sources"
   ]
  },
  {
   "cell_type": "markdown",
   "id": "c53cc19a",
   "metadata": {},
   "source": [
    "The sources to the datasets are:"
   ]
  },
  {
   "cell_type": "markdown",
   "id": "f13c3bd3",
   "metadata": {},
   "source": [
    "- Global Data on Sustainable Energy:\n",
    "    - https://www.kaggle.com/datasets/anshtanwar/global-data-on-sustainable-energy/data\n",
    "- Human Development Index Historical data:\n",
    "    - https://www.kaggle.com/datasets/gregorygeorge62/hdi-1990-2022\n",
    "- Global Warming Trends:\n",
    "    - https://www.kaggle.com/datasets/jawadawan/global-warming-trends-1961-2022\n",
    "- GDP of Each Country and Region:\n",
    "    - https://www.kaggle.com/datasets/holoong9291/gdp-of-all-countries19602020\n",
    "- Country Population:\n",
    "    - https://www.kaggle.com/datasets/ayushparwal2026/country-population-from-1960-to-2022\n",
    "- Data on Russian Energy Production, Access to Electricity, CO2 Emissions and Temperature Deviation\n",
    "    - https://www.iea.org/countries/russia/electricity\n",
    "    - https://www.macrotrends.net/global-metrics/countries/rus/russia/electricity-access-statistics\n",
    "    - https://www.worldometers.info/co2-emissions/russia-co2-emissions/\n",
    "    - https://www.statista.com/statistics/1057448/russia-temperature-change/\n",
    "- Data on South Korean Energy Production, CO2 Emissions and Access to Electricity\n",
    "    - https://www.iea.org/countries/korea/electricity\n",
    "    - https://www.iea.org/countries/russia/emissions\n",
    "    - https://www.macrotrends.net/global-metrics/countries/rus/russia/electricity-access-statistics"
   ]
  },
  {
   "cell_type": "markdown",
   "id": "32fe3a33",
   "metadata": {},
   "source": [
    "#### 1.2.2 - Imports"
   ]
  },
  {
   "cell_type": "markdown",
   "id": "71fe08d0",
   "metadata": {},
   "source": [
    "The majority of the data was imported from the source as is, except for the last three datasets for russia and the last two datasets for korea. These sets where merged in Google Docs and saved respectively as \"rus_data\" and \"kor_data\", the both of which can be found on github in the \"Additional_Data\" folder."
   ]
  },
  {
   "cell_type": "code",
   "execution_count": 2,
   "id": "e769112e",
   "metadata": {},
   "outputs": [],
   "source": [
    "sus_en = pd.read_csv('global-data-on-sustainable-energy.csv')"
   ]
  },
  {
   "cell_type": "code",
   "execution_count": 3,
   "id": "e0a52eaa",
   "metadata": {},
   "outputs": [],
   "source": [
    "tempe = pd.read_csv('long_format_annual_surface_temp.csv')"
   ]
  },
  {
   "cell_type": "code",
   "execution_count": 4,
   "id": "e83a0ff3",
   "metadata": {},
   "outputs": [],
   "source": [
    "gdp = pd.read_csv('gdp_1960_2020.csv')"
   ]
  },
  {
   "cell_type": "code",
   "execution_count": 5,
   "id": "39487ccb",
   "metadata": {},
   "outputs": [],
   "source": [
    "pop = pd.read_csv('cleaned_data_Task1.csv')"
   ]
  },
  {
   "cell_type": "code",
   "execution_count": 6,
   "id": "1abae513-255f-4f3a-90cb-efa75cd8a985",
   "metadata": {},
   "outputs": [],
   "source": [
    "rus_en = pd.read_csv('International Energy Agency - electricity generation sources in Russia.csv')"
   ]
  },
  {
   "cell_type": "code",
   "execution_count": 7,
   "id": "50d519a5-68d8-4f0a-bffa-23277519584d",
   "metadata": {},
   "outputs": [],
   "source": [
    "rus = pd.read_csv('rus_data.csv') # Contains both Energy Access and Temperature data"
   ]
  },
  {
   "cell_type": "code",
   "execution_count": 8,
   "id": "d9a5d1f1-6be6-4854-ae55-04d359c424c7",
   "metadata": {},
   "outputs": [],
   "source": [
    "kor_en = pd.read_csv('International Energy Agency - electricity generation sources in Korea.csv')"
   ]
  },
  {
   "cell_type": "code",
   "execution_count": 9,
   "id": "948d40ba-b2dc-448f-a7ea-1a943b87f7ed",
   "metadata": {},
   "outputs": [],
   "source": [
    "kor_co2 = pd.read_csv('kor_data.csv')"
   ]
  },
  {
   "cell_type": "markdown",
   "id": "5df12f1d",
   "metadata": {},
   "source": [
    "#### 1.2.3 Metrics Groups"
   ]
  },
  {
   "cell_type": "markdown",
   "id": "cfb367ba",
   "metadata": {},
   "source": [
    "The metrics obtained from combining all the imported datasets are:"
   ]
  },
  {
   "cell_type": "markdown",
   "id": "f7cad4c7",
   "metadata": {
    "jp-MarkdownHeadingCollapsed": true
   },
   "source": [
    "- Miscellaneous:\n",
    "    - Financial flows to developing countries\n",
    "    - GDP growth\n",
    "    - GDP per capita\n",
    "    - Population density\n",
    "    - Land area\n",
    "    - Latitude\n",
    "    - Longitude\n",
    "    - Population\n",
    "\n",
    "- Energy:\n",
    "    - Access to electricity\n",
    "    - Access to clean fuels for cooking\n",
    "    - Renewable electricity generating capacity\n",
    "    - Renewable energy share in the total final energy consumption\n",
    "    - Electricity from fossil fuels\n",
    "    - Electricity from nuclear\n",
    "    - Electricity from renewables\n",
    "    - Low-carbon electricity\n",
    "    - Primary energy consumption per capita\n",
    "    - Energy intensity level of primary energy\n",
    "    - Renewables %\n",
    "   \n",
    "- Environment:\n",
    "    - CO2 emissions\n",
    "    - Temperature\n",
    "    "
   ]
  },
  {
   "cell_type": "markdown",
   "id": "158d03a1",
   "metadata": {},
   "source": [
    "From these only a few are going to be maintained in the final datasets."
   ]
  },
  {
   "cell_type": "markdown",
   "id": "a22adcd3",
   "metadata": {},
   "source": [
    "# Second Section - Dataset Exploration"
   ]
  },
  {
   "cell_type": "markdown",
   "id": "d299cc20",
   "metadata": {},
   "source": [
    "## 2.1 - Global Data on Sustainable Energy"
   ]
  },
  {
   "cell_type": "markdown",
   "id": "a0698d56",
   "metadata": {},
   "source": [
    "Displaying the first few rows:"
   ]
  },
  {
   "cell_type": "code",
   "execution_count": 10,
   "id": "7e02ef36",
   "metadata": {
    "scrolled": true
   },
   "outputs": [
    {
     "data": {
      "text/html": [
       "<div>\n",
       "<style scoped>\n",
       "    .dataframe tbody tr th:only-of-type {\n",
       "        vertical-align: middle;\n",
       "    }\n",
       "\n",
       "    .dataframe tbody tr th {\n",
       "        vertical-align: top;\n",
       "    }\n",
       "\n",
       "    .dataframe thead th {\n",
       "        text-align: right;\n",
       "    }\n",
       "</style>\n",
       "<table border=\"1\" class=\"dataframe\">\n",
       "  <thead>\n",
       "    <tr style=\"text-align: right;\">\n",
       "      <th></th>\n",
       "      <th>Entity</th>\n",
       "      <th>Year</th>\n",
       "      <th>Access to electricity (% of population)</th>\n",
       "      <th>Access to clean fuels for cooking</th>\n",
       "      <th>Renewable-electricity-generating-capacity-per-capita</th>\n",
       "      <th>Financial flows to developing countries (US $)</th>\n",
       "      <th>Renewable energy share in the total final energy consumption (%)</th>\n",
       "      <th>Electricity from fossil fuels (TWh)</th>\n",
       "      <th>Electricity from nuclear (TWh)</th>\n",
       "      <th>Electricity from renewables (TWh)</th>\n",
       "      <th>...</th>\n",
       "      <th>Primary energy consumption per capita (kWh/person)</th>\n",
       "      <th>Energy intensity level of primary energy (MJ/$2017 PPP GDP)</th>\n",
       "      <th>Value_co2_emissions_kt_by_country</th>\n",
       "      <th>Renewables (% equivalent primary energy)</th>\n",
       "      <th>gdp_growth</th>\n",
       "      <th>gdp_per_capita</th>\n",
       "      <th>Density\\n(P/Km2)</th>\n",
       "      <th>Land Area(Km2)</th>\n",
       "      <th>Latitude</th>\n",
       "      <th>Longitude</th>\n",
       "    </tr>\n",
       "  </thead>\n",
       "  <tbody>\n",
       "    <tr>\n",
       "      <th>0</th>\n",
       "      <td>Afghanistan</td>\n",
       "      <td>2000</td>\n",
       "      <td>1.613591</td>\n",
       "      <td>6.2</td>\n",
       "      <td>9.22</td>\n",
       "      <td>20000.0</td>\n",
       "      <td>44.99</td>\n",
       "      <td>0.16</td>\n",
       "      <td>0.0</td>\n",
       "      <td>0.31</td>\n",
       "      <td>...</td>\n",
       "      <td>302.59482</td>\n",
       "      <td>1.64</td>\n",
       "      <td>760.000000</td>\n",
       "      <td>NaN</td>\n",
       "      <td>NaN</td>\n",
       "      <td>NaN</td>\n",
       "      <td>60</td>\n",
       "      <td>652230.0</td>\n",
       "      <td>33.93911</td>\n",
       "      <td>67.709953</td>\n",
       "    </tr>\n",
       "    <tr>\n",
       "      <th>1</th>\n",
       "      <td>Afghanistan</td>\n",
       "      <td>2001</td>\n",
       "      <td>4.074574</td>\n",
       "      <td>7.2</td>\n",
       "      <td>8.86</td>\n",
       "      <td>130000.0</td>\n",
       "      <td>45.60</td>\n",
       "      <td>0.09</td>\n",
       "      <td>0.0</td>\n",
       "      <td>0.50</td>\n",
       "      <td>...</td>\n",
       "      <td>236.89185</td>\n",
       "      <td>1.74</td>\n",
       "      <td>730.000000</td>\n",
       "      <td>NaN</td>\n",
       "      <td>NaN</td>\n",
       "      <td>NaN</td>\n",
       "      <td>60</td>\n",
       "      <td>652230.0</td>\n",
       "      <td>33.93911</td>\n",
       "      <td>67.709953</td>\n",
       "    </tr>\n",
       "    <tr>\n",
       "      <th>2</th>\n",
       "      <td>Afghanistan</td>\n",
       "      <td>2002</td>\n",
       "      <td>9.409158</td>\n",
       "      <td>8.2</td>\n",
       "      <td>8.47</td>\n",
       "      <td>3950000.0</td>\n",
       "      <td>37.83</td>\n",
       "      <td>0.13</td>\n",
       "      <td>0.0</td>\n",
       "      <td>0.56</td>\n",
       "      <td>...</td>\n",
       "      <td>210.86215</td>\n",
       "      <td>1.40</td>\n",
       "      <td>1029.999971</td>\n",
       "      <td>NaN</td>\n",
       "      <td>NaN</td>\n",
       "      <td>179.426579</td>\n",
       "      <td>60</td>\n",
       "      <td>652230.0</td>\n",
       "      <td>33.93911</td>\n",
       "      <td>67.709953</td>\n",
       "    </tr>\n",
       "    <tr>\n",
       "      <th>3</th>\n",
       "      <td>Afghanistan</td>\n",
       "      <td>2003</td>\n",
       "      <td>14.738506</td>\n",
       "      <td>9.5</td>\n",
       "      <td>8.09</td>\n",
       "      <td>25970000.0</td>\n",
       "      <td>36.66</td>\n",
       "      <td>0.31</td>\n",
       "      <td>0.0</td>\n",
       "      <td>0.63</td>\n",
       "      <td>...</td>\n",
       "      <td>229.96822</td>\n",
       "      <td>1.40</td>\n",
       "      <td>1220.000029</td>\n",
       "      <td>NaN</td>\n",
       "      <td>8.832278</td>\n",
       "      <td>190.683814</td>\n",
       "      <td>60</td>\n",
       "      <td>652230.0</td>\n",
       "      <td>33.93911</td>\n",
       "      <td>67.709953</td>\n",
       "    </tr>\n",
       "    <tr>\n",
       "      <th>4</th>\n",
       "      <td>Afghanistan</td>\n",
       "      <td>2004</td>\n",
       "      <td>20.064968</td>\n",
       "      <td>10.9</td>\n",
       "      <td>7.75</td>\n",
       "      <td>NaN</td>\n",
       "      <td>44.24</td>\n",
       "      <td>0.33</td>\n",
       "      <td>0.0</td>\n",
       "      <td>0.56</td>\n",
       "      <td>...</td>\n",
       "      <td>204.23125</td>\n",
       "      <td>1.20</td>\n",
       "      <td>1029.999971</td>\n",
       "      <td>NaN</td>\n",
       "      <td>1.414118</td>\n",
       "      <td>211.382074</td>\n",
       "      <td>60</td>\n",
       "      <td>652230.0</td>\n",
       "      <td>33.93911</td>\n",
       "      <td>67.709953</td>\n",
       "    </tr>\n",
       "  </tbody>\n",
       "</table>\n",
       "<p>5 rows × 21 columns</p>\n",
       "</div>"
      ],
      "text/plain": [
       "        Entity  Year  Access to electricity (% of population)  \\\n",
       "0  Afghanistan  2000                                 1.613591   \n",
       "1  Afghanistan  2001                                 4.074574   \n",
       "2  Afghanistan  2002                                 9.409158   \n",
       "3  Afghanistan  2003                                14.738506   \n",
       "4  Afghanistan  2004                                20.064968   \n",
       "\n",
       "   Access to clean fuels for cooking  \\\n",
       "0                                6.2   \n",
       "1                                7.2   \n",
       "2                                8.2   \n",
       "3                                9.5   \n",
       "4                               10.9   \n",
       "\n",
       "   Renewable-electricity-generating-capacity-per-capita  \\\n",
       "0                                               9.22      \n",
       "1                                               8.86      \n",
       "2                                               8.47      \n",
       "3                                               8.09      \n",
       "4                                               7.75      \n",
       "\n",
       "   Financial flows to developing countries (US $)  \\\n",
       "0                                         20000.0   \n",
       "1                                        130000.0   \n",
       "2                                       3950000.0   \n",
       "3                                      25970000.0   \n",
       "4                                             NaN   \n",
       "\n",
       "   Renewable energy share in the total final energy consumption (%)  \\\n",
       "0                                              44.99                  \n",
       "1                                              45.60                  \n",
       "2                                              37.83                  \n",
       "3                                              36.66                  \n",
       "4                                              44.24                  \n",
       "\n",
       "   Electricity from fossil fuels (TWh)  Electricity from nuclear (TWh)  \\\n",
       "0                                 0.16                             0.0   \n",
       "1                                 0.09                             0.0   \n",
       "2                                 0.13                             0.0   \n",
       "3                                 0.31                             0.0   \n",
       "4                                 0.33                             0.0   \n",
       "\n",
       "   Electricity from renewables (TWh)  ...  \\\n",
       "0                               0.31  ...   \n",
       "1                               0.50  ...   \n",
       "2                               0.56  ...   \n",
       "3                               0.63  ...   \n",
       "4                               0.56  ...   \n",
       "\n",
       "   Primary energy consumption per capita (kWh/person)  \\\n",
       "0                                          302.59482    \n",
       "1                                          236.89185    \n",
       "2                                          210.86215    \n",
       "3                                          229.96822    \n",
       "4                                          204.23125    \n",
       "\n",
       "   Energy intensity level of primary energy (MJ/$2017 PPP GDP)  \\\n",
       "0                                               1.64             \n",
       "1                                               1.74             \n",
       "2                                               1.40             \n",
       "3                                               1.40             \n",
       "4                                               1.20             \n",
       "\n",
       "   Value_co2_emissions_kt_by_country  \\\n",
       "0                         760.000000   \n",
       "1                         730.000000   \n",
       "2                        1029.999971   \n",
       "3                        1220.000029   \n",
       "4                        1029.999971   \n",
       "\n",
       "   Renewables (% equivalent primary energy)  gdp_growth  gdp_per_capita  \\\n",
       "0                                       NaN         NaN             NaN   \n",
       "1                                       NaN         NaN             NaN   \n",
       "2                                       NaN         NaN      179.426579   \n",
       "3                                       NaN    8.832278      190.683814   \n",
       "4                                       NaN    1.414118      211.382074   \n",
       "\n",
       "   Density\\n(P/Km2) Land Area(Km2)  Latitude  Longitude  \n",
       "0                60       652230.0  33.93911  67.709953  \n",
       "1                60       652230.0  33.93911  67.709953  \n",
       "2                60       652230.0  33.93911  67.709953  \n",
       "3                60       652230.0  33.93911  67.709953  \n",
       "4                60       652230.0  33.93911  67.709953  \n",
       "\n",
       "[5 rows x 21 columns]"
      ]
     },
     "execution_count": 10,
     "metadata": {},
     "output_type": "execute_result"
    }
   ],
   "source": [
    "sus_en.head()"
   ]
  },
  {
   "cell_type": "markdown",
   "id": "d5d2ddc3",
   "metadata": {},
   "source": [
    "Computing all the single countries:"
   ]
  },
  {
   "cell_type": "code",
   "execution_count": 11,
   "id": "c7f5bf4c",
   "metadata": {},
   "outputs": [
    {
     "data": {
      "text/plain": [
       "array(['Afghanistan', 'Albania', 'Algeria', 'Angola',\n",
       "       'Antigua and Barbuda', 'Argentina', 'Armenia', 'Aruba',\n",
       "       'Australia', 'Austria', 'Azerbaijan', 'Bahamas', 'Bahrain',\n",
       "       'Bangladesh', 'Barbados', 'Belarus', 'Belgium', 'Belize', 'Benin',\n",
       "       'Bermuda', 'Bhutan', 'Bosnia and Herzegovina', 'Botswana',\n",
       "       'Brazil', 'Bulgaria', 'Burkina Faso', 'Burundi', 'Cambodia',\n",
       "       'Cameroon', 'Canada', 'Cayman Islands', 'Central African Republic',\n",
       "       'Chad', 'Chile', 'China', 'Colombia', 'Comoros', 'Congo',\n",
       "       'Costa Rica', 'Croatia', 'Cuba', 'Cyprus', 'Czechia', 'Denmark',\n",
       "       'Djibouti', 'Dominica', 'Dominican Republic', 'Ecuador', 'Egypt',\n",
       "       'El Salvador', 'Equatorial Guinea', 'Eritrea', 'Estonia',\n",
       "       'Eswatini', 'Ethiopia', 'Fiji', 'Finland', 'France',\n",
       "       'French Guiana', 'Gabon', 'Gambia', 'Georgia', 'Germany', 'Ghana',\n",
       "       'Greece', 'Grenada', 'Guatemala', 'Guinea', 'Guinea-Bissau',\n",
       "       'Guyana', 'Haiti', 'Honduras', 'Hungary', 'Iceland', 'India',\n",
       "       'Indonesia', 'Iraq', 'Ireland', 'Israel', 'Italy', 'Jamaica',\n",
       "       'Japan', 'Jordan', 'Kazakhstan', 'Kenya', 'Kiribati', 'Kuwait',\n",
       "       'Kyrgyzstan', 'Latvia', 'Lebanon', 'Lesotho', 'Liberia', 'Libya',\n",
       "       'Lithuania', 'Luxembourg', 'Madagascar', 'Malawi', 'Malaysia',\n",
       "       'Maldives', 'Mali', 'Malta', 'Mauritania', 'Mauritius', 'Mexico',\n",
       "       'Mongolia', 'Montenegro', 'Morocco', 'Mozambique', 'Myanmar',\n",
       "       'Namibia', 'Nauru', 'Nepal', 'Netherlands', 'New Caledonia',\n",
       "       'New Zealand', 'Nicaragua', 'Niger', 'Nigeria', 'North Macedonia',\n",
       "       'Norway', 'Oman', 'Pakistan', 'Panama', 'Papua New Guinea',\n",
       "       'Paraguay', 'Peru', 'Philippines', 'Poland', 'Portugal',\n",
       "       'Puerto Rico', 'Qatar', 'Romania', 'Rwanda',\n",
       "       'Saint Kitts and Nevis', 'Saint Lucia',\n",
       "       'Saint Vincent and the Grenadines', 'Samoa',\n",
       "       'Sao Tome and Principe', 'Saudi Arabia', 'Senegal', 'Serbia',\n",
       "       'Seychelles', 'Sierra Leone', 'Singapore', 'Slovakia', 'Slovenia',\n",
       "       'Solomon Islands', 'Somalia', 'South Africa', 'South Sudan',\n",
       "       'Spain', 'Sri Lanka', 'Sudan', 'Suriname', 'Sweden', 'Switzerland',\n",
       "       'Tajikistan', 'Thailand', 'Togo', 'Tonga', 'Trinidad and Tobago',\n",
       "       'Tunisia', 'Turkey', 'Turkmenistan', 'Tuvalu', 'Uganda', 'Ukraine',\n",
       "       'United Arab Emirates', 'United Kingdom', 'United States',\n",
       "       'Uruguay', 'Uzbekistan', 'Vanuatu', 'Yemen', 'Zambia', 'Zimbabwe'],\n",
       "      dtype=object)"
      ]
     },
     "execution_count": 11,
     "metadata": {},
     "output_type": "execute_result"
    }
   ],
   "source": [
    "sus_en_country = pd.unique(sus_en['Entity'])\n",
    "sus_en_country"
   ]
  },
  {
   "cell_type": "markdown",
   "id": "92036374",
   "metadata": {},
   "source": [
    "Computing all the single years:"
   ]
  },
  {
   "cell_type": "code",
   "execution_count": 12,
   "id": "6e65238d",
   "metadata": {
    "scrolled": true
   },
   "outputs": [
    {
     "data": {
      "text/plain": [
       "array([2000, 2001, 2002, 2003, 2004, 2005, 2006, 2007, 2008, 2009, 2010,\n",
       "       2011, 2012, 2013, 2014, 2015, 2016, 2017, 2018, 2019, 2020],\n",
       "      dtype=int64)"
      ]
     },
     "execution_count": 12,
     "metadata": {},
     "output_type": "execute_result"
    }
   ],
   "source": [
    "sus_en_year = pd.unique(sus_en['Year'])\n",
    "sus_en_year"
   ]
  },
  {
   "cell_type": "markdown",
   "id": "063e9e07",
   "metadata": {},
   "source": [
    "Computing the dataset shape:"
   ]
  },
  {
   "cell_type": "code",
   "execution_count": 13,
   "id": "80c75b02",
   "metadata": {},
   "outputs": [
    {
     "data": {
      "text/plain": [
       "(3649, 21)"
      ]
     },
     "execution_count": 13,
     "metadata": {},
     "output_type": "execute_result"
    }
   ],
   "source": [
    "sus_en.shape"
   ]
  },
  {
   "cell_type": "markdown",
   "id": "4210bbc1",
   "metadata": {},
   "source": [
    "Looking for duplicates:"
   ]
  },
  {
   "cell_type": "code",
   "execution_count": 14,
   "id": "b7073534",
   "metadata": {},
   "outputs": [
    {
     "data": {
      "text/plain": [
       "0"
      ]
     },
     "execution_count": 14,
     "metadata": {},
     "output_type": "execute_result"
    }
   ],
   "source": [
    "sus_en.duplicated().sum()"
   ]
  },
  {
   "cell_type": "markdown",
   "id": "aadc964a",
   "metadata": {},
   "source": [
    "Looking for missing data by column:"
   ]
  },
  {
   "cell_type": "code",
   "execution_count": 15,
   "id": "601ebed2",
   "metadata": {
    "scrolled": true
   },
   "outputs": [
    {
     "data": {
      "text/plain": [
       "Entity                                                                 0\n",
       "Year                                                                   0\n",
       "Access to electricity (% of population)                               10\n",
       "Access to clean fuels for cooking                                    169\n",
       "Renewable-electricity-generating-capacity-per-capita                 931\n",
       "Financial flows to developing countries (US $)                      2089\n",
       "Renewable energy share in the total final energy consumption (%)     194\n",
       "Electricity from fossil fuels (TWh)                                   21\n",
       "Electricity from nuclear (TWh)                                       126\n",
       "Electricity from renewables (TWh)                                     21\n",
       "Low-carbon electricity (% electricity)                                42\n",
       "Primary energy consumption per capita (kWh/person)                     0\n",
       "Energy intensity level of primary energy (MJ/$2017 PPP GDP)          207\n",
       "Value_co2_emissions_kt_by_country                                    428\n",
       "Renewables (% equivalent primary energy)                            2137\n",
       "gdp_growth                                                           317\n",
       "gdp_per_capita                                                       282\n",
       "Density\\n(P/Km2)                                                       1\n",
       "Land Area(Km2)                                                         1\n",
       "Latitude                                                               1\n",
       "Longitude                                                              1\n",
       "dtype: int64"
      ]
     },
     "execution_count": 15,
     "metadata": {},
     "output_type": "execute_result"
    }
   ],
   "source": [
    "sus_en.isnull().sum()"
   ]
  },
  {
   "cell_type": "markdown",
   "id": "609f29ac",
   "metadata": {},
   "source": [
    "### 2.2 - Global Warming Trends"
   ]
  },
  {
   "cell_type": "markdown",
   "id": "dbdf2c40",
   "metadata": {},
   "source": [
    "Displaying the first few rows:"
   ]
  },
  {
   "cell_type": "code",
   "execution_count": 16,
   "id": "c232d92a",
   "metadata": {
    "scrolled": true
   },
   "outputs": [
    {
     "data": {
      "text/html": [
       "<div>\n",
       "<style scoped>\n",
       "    .dataframe tbody tr th:only-of-type {\n",
       "        vertical-align: middle;\n",
       "    }\n",
       "\n",
       "    .dataframe tbody tr th {\n",
       "        vertical-align: top;\n",
       "    }\n",
       "\n",
       "    .dataframe thead th {\n",
       "        text-align: right;\n",
       "    }\n",
       "</style>\n",
       "<table border=\"1\" class=\"dataframe\">\n",
       "  <thead>\n",
       "    <tr style=\"text-align: right;\">\n",
       "      <th></th>\n",
       "      <th>Country</th>\n",
       "      <th>ISO2</th>\n",
       "      <th>Year</th>\n",
       "      <th>Temperature</th>\n",
       "    </tr>\n",
       "  </thead>\n",
       "  <tbody>\n",
       "    <tr>\n",
       "      <th>0</th>\n",
       "      <td>Afghanistan, Islamic Rep. of</td>\n",
       "      <td>AF</td>\n",
       "      <td>F1961</td>\n",
       "      <td>-0.113</td>\n",
       "    </tr>\n",
       "    <tr>\n",
       "      <th>1</th>\n",
       "      <td>Albania</td>\n",
       "      <td>AL</td>\n",
       "      <td>F1961</td>\n",
       "      <td>0.627</td>\n",
       "    </tr>\n",
       "    <tr>\n",
       "      <th>2</th>\n",
       "      <td>Algeria</td>\n",
       "      <td>DZ</td>\n",
       "      <td>F1961</td>\n",
       "      <td>0.164</td>\n",
       "    </tr>\n",
       "    <tr>\n",
       "      <th>3</th>\n",
       "      <td>American Samoa</td>\n",
       "      <td>AS</td>\n",
       "      <td>F1961</td>\n",
       "      <td>0.079</td>\n",
       "    </tr>\n",
       "    <tr>\n",
       "      <th>4</th>\n",
       "      <td>Andorra, Principality of</td>\n",
       "      <td>AD</td>\n",
       "      <td>F1961</td>\n",
       "      <td>0.736</td>\n",
       "    </tr>\n",
       "  </tbody>\n",
       "</table>\n",
       "</div>"
      ],
      "text/plain": [
       "                        Country ISO2   Year  Temperature\n",
       "0  Afghanistan, Islamic Rep. of   AF  F1961       -0.113\n",
       "1                       Albania   AL  F1961        0.627\n",
       "2                       Algeria   DZ  F1961        0.164\n",
       "3                American Samoa   AS  F1961        0.079\n",
       "4      Andorra, Principality of   AD  F1961        0.736"
      ]
     },
     "execution_count": 16,
     "metadata": {},
     "output_type": "execute_result"
    }
   ],
   "source": [
    "tempe.head()"
   ]
  },
  {
   "cell_type": "markdown",
   "id": "74f12f6e",
   "metadata": {},
   "source": [
    "Computing all the single countries:"
   ]
  },
  {
   "cell_type": "code",
   "execution_count": 17,
   "id": "0d7daf6c",
   "metadata": {},
   "outputs": [
    {
     "data": {
      "text/plain": [
       "array(['Afghanistan, Islamic Rep. of', 'Albania', 'Algeria',\n",
       "       'American Samoa', 'Andorra, Principality of', 'Angola', 'Anguilla',\n",
       "       'Antigua and Barbuda', 'Argentina', 'Australia', 'Austria',\n",
       "       'Bahamas, The', 'Bahrain, Kingdom of', 'Bangladesh', 'Barbados',\n",
       "       'Belize', 'Benin', 'Bhutan', 'Bolivia', 'Botswana', 'Brazil',\n",
       "       'British Virgin Islands', 'Brunei Darussalam', 'Bulgaria',\n",
       "       'Burkina Faso', 'Cabo Verde', 'Cambodia', 'Cameroon', 'Canada',\n",
       "       'Cayman Islands', 'Central African Rep.', 'Chad', 'Chile',\n",
       "       'China, P.R.: Hong Kong', 'China, P.R.: Macao',\n",
       "       'China, P.R.: Mainland', 'Colombia', 'Comoros, Union of the',\n",
       "       'Congo, Dem. Rep. of the', 'Congo, Rep. of', 'Cook Islands',\n",
       "       'Cuba', 'Cyprus', 'Denmark', 'Djibouti', 'Dominica',\n",
       "       'Dominican Rep.', 'Ecuador', 'Egypt, Arab Rep. of', 'El Salvador',\n",
       "       'Equatorial Guinea, Rep. of', 'Eswatini, Kingdom of',\n",
       "       'Faroe Islands', 'Fiji, Rep. of', 'Finland', 'France',\n",
       "       'French Polynesia', 'Gabon', 'Gambia, The', 'Germany', 'Ghana',\n",
       "       'Gibraltar', 'Greece', 'Greenland', 'Grenada', 'Guadeloupe',\n",
       "       'Guatemala', 'Guinea', 'Guinea-Bissau', 'Guyana', 'Haiti',\n",
       "       'Holy See', 'Honduras', 'Hungary', 'Iceland', 'India', 'Indonesia',\n",
       "       'Iran, Islamic Rep. of', 'Iraq', 'Ireland', 'Isle of Man',\n",
       "       'Israel', 'Italy', 'Jamaica', 'Japan', 'Jordan', 'Kenya',\n",
       "       'Kiribati', \"Korea, Dem. People's Rep. of\", 'Korea, Rep. of',\n",
       "       'Kuwait', \"Lao People's Dem. Rep.\", 'Lebanon',\n",
       "       'Lesotho, Kingdom of', 'Liberia', 'Libya', 'Liechtenstein',\n",
       "       'Madagascar, Rep. of', 'Malawi', 'Malaysia', 'Maldives', 'Mali',\n",
       "       'Malta', 'Martinique', 'Mauritania, Islamic Rep. of', 'Mauritius',\n",
       "       'Mayotte', 'Mexico', 'Monaco', 'Mongolia', 'Montserrat', 'Morocco',\n",
       "       'Mozambique, Rep. of', 'Myanmar', 'Namibia', 'Nepal',\n",
       "       'Netherlands, The', 'New Caledonia', 'New Zealand', 'Nicaragua',\n",
       "       'Niger', 'Nigeria', 'Norfolk Island', 'Norway', 'Oman', 'Pakistan',\n",
       "       'Panama', 'Papua New Guinea', 'Paraguay', 'Peru', 'Philippines',\n",
       "       'Poland, Rep. of', 'Portugal', 'Puerto Rico', 'Qatar', 'Romania',\n",
       "       'Saint Helena', 'Saint Pierre and Miquelon', 'Samoa',\n",
       "       'San Marino, Rep. of', 'São Tomé and Príncipe, Dem. Rep. of',\n",
       "       'Saudi Arabia', 'Senegal', 'Seychelles', 'Sierra Leone',\n",
       "       'Solomon Islands', 'Somalia', 'South Africa', 'Spain', 'Sri Lanka',\n",
       "       'St. Kitts and Nevis', 'St. Lucia',\n",
       "       'St. Vincent and the Grenadines', 'Suriname', 'Sweden',\n",
       "       'Switzerland', 'Syrian Arab Rep.', 'Taiwan Province of China',\n",
       "       'Tanzania, United Rep. of', 'Thailand', 'Togo', 'Tonga',\n",
       "       'Trinidad and Tobago', 'Tunisia', 'Turks and Caicos Islands',\n",
       "       'Tuvalu', 'Uganda', 'United Arab Emirates', 'United Kingdom',\n",
       "       'United States', 'United States Virgin Islands', 'Uruguay',\n",
       "       'Vanuatu', 'Venezuela, Rep. Bolivariana de', 'Vietnam',\n",
       "       'Wallis and Futuna Islands', 'West Bank and Gaza',\n",
       "       'Western Sahara', 'World', 'Zambia', 'Zimbabwe'], dtype=object)"
      ]
     },
     "execution_count": 17,
     "metadata": {},
     "output_type": "execute_result"
    }
   ],
   "source": [
    "tempe_country = pd.unique(tempe['Country'])\n",
    "tempe_country"
   ]
  },
  {
   "cell_type": "markdown",
   "id": "956968a8",
   "metadata": {},
   "source": [
    "Computing all the single years:"
   ]
  },
  {
   "cell_type": "code",
   "execution_count": 18,
   "id": "548651ea",
   "metadata": {},
   "outputs": [
    {
     "data": {
      "text/plain": [
       "array(['F1961', 'F1962', 'F1963', 'F1964', 'F1965', 'F1966', 'F1967',\n",
       "       'F1968', 'F1969', 'F1970', 'F1971', 'F1972', 'F1973', 'F1974',\n",
       "       'F1975', 'F1976', 'F1977', 'F1978', 'F1979', 'F1980', 'F1981',\n",
       "       'F1982', 'F1983', 'F1984', 'F1985', 'F1986', 'F1987', 'F1988',\n",
       "       'F1989', 'F1990', 'F1991', 'F1992', 'F1993', 'F1994', 'F1995',\n",
       "       'F1996', 'F1997', 'F1998', 'F1999', 'F2000', 'F2001', 'F2002',\n",
       "       'F2003', 'F2004', 'F2005', 'F2006', 'F2007', 'F2008', 'F2009',\n",
       "       'F2010', 'F2011', 'F2012', 'F2013', 'F2014', 'F2015', 'F2016',\n",
       "       'F2017', 'F2018', 'F2019', 'F2020', 'F2021', 'F2022'], dtype=object)"
      ]
     },
     "execution_count": 18,
     "metadata": {},
     "output_type": "execute_result"
    }
   ],
   "source": [
    "tempe_year = pd.unique(tempe['Year'])\n",
    "tempe_year"
   ]
  },
  {
   "cell_type": "markdown",
   "id": "e191d9b8",
   "metadata": {},
   "source": [
    "Computing the dataset shape:"
   ]
  },
  {
   "cell_type": "code",
   "execution_count": 19,
   "id": "ffdfd2f4",
   "metadata": {
    "scrolled": true
   },
   "outputs": [
    {
     "data": {
      "text/plain": [
       "(11222, 4)"
      ]
     },
     "execution_count": 19,
     "metadata": {},
     "output_type": "execute_result"
    }
   ],
   "source": [
    "tempe.shape"
   ]
  },
  {
   "cell_type": "markdown",
   "id": "00f74186",
   "metadata": {},
   "source": [
    "Looking for duplicates:"
   ]
  },
  {
   "cell_type": "code",
   "execution_count": 20,
   "id": "fa67bde9",
   "metadata": {},
   "outputs": [
    {
     "data": {
      "text/plain": [
       "0"
      ]
     },
     "execution_count": 20,
     "metadata": {},
     "output_type": "execute_result"
    }
   ],
   "source": [
    "tempe.duplicated().sum()"
   ]
  },
  {
   "cell_type": "markdown",
   "id": "e9d36bf0",
   "metadata": {},
   "source": [
    "Looking for missing data by column:"
   ]
  },
  {
   "cell_type": "code",
   "execution_count": 21,
   "id": "d6d58a35",
   "metadata": {},
   "outputs": [
    {
     "data": {
      "text/plain": [
       "Country        0\n",
       "ISO2           0\n",
       "Year           0\n",
       "Temperature    0\n",
       "dtype: int64"
      ]
     },
     "execution_count": 21,
     "metadata": {},
     "output_type": "execute_result"
    }
   ],
   "source": [
    "tempe.isnull().sum()"
   ]
  },
  {
   "cell_type": "markdown",
   "id": "b2ce323f",
   "metadata": {},
   "source": [
    "### 2.3 - GDP of Each Country and Region"
   ]
  },
  {
   "cell_type": "markdown",
   "id": "3372bd81",
   "metadata": {},
   "source": [
    "Displaying the first few rows:"
   ]
  },
  {
   "cell_type": "code",
   "execution_count": 22,
   "id": "45ccfc03",
   "metadata": {
    "scrolled": true
   },
   "outputs": [
    {
     "data": {
      "text/html": [
       "<div>\n",
       "<style scoped>\n",
       "    .dataframe tbody tr th:only-of-type {\n",
       "        vertical-align: middle;\n",
       "    }\n",
       "\n",
       "    .dataframe tbody tr th {\n",
       "        vertical-align: top;\n",
       "    }\n",
       "\n",
       "    .dataframe thead th {\n",
       "        text-align: right;\n",
       "    }\n",
       "</style>\n",
       "<table border=\"1\" class=\"dataframe\">\n",
       "  <thead>\n",
       "    <tr style=\"text-align: right;\">\n",
       "      <th></th>\n",
       "      <th>year</th>\n",
       "      <th>rank</th>\n",
       "      <th>country</th>\n",
       "      <th>state</th>\n",
       "      <th>gdp</th>\n",
       "      <th>gdp_percent</th>\n",
       "    </tr>\n",
       "  </thead>\n",
       "  <tbody>\n",
       "    <tr>\n",
       "      <th>0</th>\n",
       "      <td>1960</td>\n",
       "      <td>1</td>\n",
       "      <td>the United States</td>\n",
       "      <td>America</td>\n",
       "      <td>543300000000</td>\n",
       "      <td>0.468483</td>\n",
       "    </tr>\n",
       "    <tr>\n",
       "      <th>1</th>\n",
       "      <td>1960</td>\n",
       "      <td>2</td>\n",
       "      <td>United Kingdom</td>\n",
       "      <td>Europe</td>\n",
       "      <td>73233967692</td>\n",
       "      <td>0.063149</td>\n",
       "    </tr>\n",
       "    <tr>\n",
       "      <th>2</th>\n",
       "      <td>1960</td>\n",
       "      <td>3</td>\n",
       "      <td>France</td>\n",
       "      <td>Europe</td>\n",
       "      <td>62225478000</td>\n",
       "      <td>0.053656</td>\n",
       "    </tr>\n",
       "    <tr>\n",
       "      <th>3</th>\n",
       "      <td>1960</td>\n",
       "      <td>4</td>\n",
       "      <td>China</td>\n",
       "      <td>Asia</td>\n",
       "      <td>59716467625</td>\n",
       "      <td>0.051493</td>\n",
       "    </tr>\n",
       "    <tr>\n",
       "      <th>4</th>\n",
       "      <td>1960</td>\n",
       "      <td>5</td>\n",
       "      <td>Japan</td>\n",
       "      <td>Asia</td>\n",
       "      <td>44307342950</td>\n",
       "      <td>0.038206</td>\n",
       "    </tr>\n",
       "  </tbody>\n",
       "</table>\n",
       "</div>"
      ],
      "text/plain": [
       "   year  rank            country    state           gdp  gdp_percent\n",
       "0  1960     1  the United States  America  543300000000     0.468483\n",
       "1  1960     2     United Kingdom   Europe   73233967692     0.063149\n",
       "2  1960     3             France   Europe   62225478000     0.053656\n",
       "3  1960     4              China     Asia   59716467625     0.051493\n",
       "4  1960     5              Japan     Asia   44307342950     0.038206"
      ]
     },
     "execution_count": 22,
     "metadata": {},
     "output_type": "execute_result"
    }
   ],
   "source": [
    "gdp.head()"
   ]
  },
  {
   "cell_type": "markdown",
   "id": "3b8729cf",
   "metadata": {},
   "source": [
    "Computing all the single countries:"
   ]
  },
  {
   "cell_type": "code",
   "execution_count": 23,
   "id": "d950e475",
   "metadata": {},
   "outputs": [
    {
     "data": {
      "text/plain": [
       "array(['the United States', 'United Kingdom', 'France', 'China', 'Japan',\n",
       "       'Canada', 'Italy', 'India', 'Australia', 'Sweden', 'Brazil',\n",
       "       'Turkey', 'Mexico', 'Netherlands', 'Spain', 'Belgium',\n",
       "       'Switzerland', 'Venezuela', 'South Africa', 'Philippines',\n",
       "       'Austria', 'Denmark', 'New Zealand', 'Finland', 'Norway', 'Greece',\n",
       "       'Bangladesh', 'Iran', 'Nigeria', 'Chile', 'Columbia',\n",
       "       'South Korea', 'Pakistan', 'Congo (gold)', 'Portugal', 'Thailand',\n",
       "       'Algeria', 'Israel', 'Peru', 'Morocco', 'Ireland', 'Malaysia',\n",
       "       'Puerto Rico', 'Iraq', 'Sri Lanka', 'Hong Kong', 'Sudan',\n",
       "       'Uruguay', 'Garner', 'Zimbabwe', 'Guatemala', 'Ecuador', 'Syria',\n",
       "       'Senegal', 'Kenya', 'Zambia', 'Singapore', 'Luxembourg', 'Jamaica',\n",
       "       'Madagascar', 'Dominica', 'Cambodia', 'Cameroon', 'Bolivia',\n",
       "       \"C ô te d'Ivoire\", 'Afghanistan', 'Panama', 'Trinidad and Tobago',\n",
       "       'Nepal', 'Costa Rica', 'Niger', 'Uganda', 'Honduras',\n",
       "       'Burkina Faso', 'Sierra Leone', 'Chad', 'Haiti', 'Iceland',\n",
       "       'Papua New Guinea', 'Benin', 'Nicaragua', 'Burundi', 'Liberia',\n",
       "       'Somalia', 'Guyana', 'Bahamas', 'Malawi', 'Gabon',\n",
       "       'Congo (Brazzaville)', 'Togo', 'Rwanda', 'Fiji Islands',\n",
       "       'Central Africa', 'Suriname', 'Mauritania', 'Bermuda', 'Eswatini',\n",
       "       'Lesotho', 'Botswana', 'Belize',\n",
       "       'Saint Vincent and the Grenadines', 'Saint Kitts and Nevis',\n",
       "       'Seychelles', 'Argentina', 'Equatorial Guinea', 'Egypt', 'Kuwait',\n",
       "       'Tunisia', 'El Salvador', 'Jordan', 'Paraguay', 'French Polynesia',\n",
       "       'New Caledonia', 'Brunei', 'Oman', 'Gambia', 'Indonesia', 'Mali',\n",
       "       'Solomon Islands', 'Saudi Arabia', 'Germany', 'Cuba', 'Qatar',\n",
       "       'Monaco', 'Malta', 'Liechtenstein', 'Guinea Bissau', 'Andorra',\n",
       "       'Greenland', 'Kiribati', 'Barbados', 'United Arab Emirates',\n",
       "       'Cyprus', 'Tonga', 'Mauritius', 'Saint Lucia',\n",
       "       'Antigua and Barbuda', 'Grenada', 'Vanuatu', 'Bulgaria', 'Angola',\n",
       "       'Mozambique', 'Bahrain', 'Namibia', 'Cape Verde', 'Bhutan',\n",
       "       'Comoros', 'Maldives', 'Ethiopia', 'Mongolia', 'Marshall Islands',\n",
       "       'Macao', 'Samoa', 'Micronesia (Federated States of)', 'Albania',\n",
       "       'Laos', 'Vietnam', 'Djibouti', 'Guinea', 'Aruba', 'Ukraine',\n",
       "       'Romania', 'Turkmenistan', 'Russia', 'Tanzania', 'Lebanon',\n",
       "       'Poland', 'Czech', 'Libya', 'Kazakhstan', 'Belarus', 'Slovenia',\n",
       "       'Uzbekistan', 'Slovakia', 'Azerbaijan', 'Georgia', 'Yemen',\n",
       "       'Macedonia', 'Moldova', 'Kyrgyzstan', 'Tajikistan', 'Armenia',\n",
       "       'Palau', 'Tuvalu', 'Hungary', 'Eritrea', 'Estonia', 'Palestine',\n",
       "       'Bosnia and Herzegovina', 'Croatia', 'Serbia', 'Lithuania',\n",
       "       'Latvia', 'Isle of man', 'Cayman Islands', 'Faroe Islands',\n",
       "       'Myanmar', 'San Marino', 'Montenegro', 'Timor Leste',\n",
       "       'Turks and Caicos Islands', 'Sao Tome and Principe.', 'Guam',\n",
       "       'Northern Mariana Islands', 'American Samoa', 'Nauru',\n",
       "       'South Sultan', 'Cura ç Ao', 'Netherlands Saint Martin'],\n",
       "      dtype=object)"
      ]
     },
     "execution_count": 23,
     "metadata": {},
     "output_type": "execute_result"
    }
   ],
   "source": [
    "gdp_country = pd.unique(gdp['country'])\n",
    "gdp_country"
   ]
  },
  {
   "cell_type": "markdown",
   "id": "daeddfc6",
   "metadata": {},
   "source": [
    "Computing all the single years:"
   ]
  },
  {
   "cell_type": "code",
   "execution_count": 24,
   "id": "3d2bda40",
   "metadata": {
    "scrolled": true
   },
   "outputs": [
    {
     "data": {
      "text/plain": [
       "array([1960, 1961, 1962, 1963, 1964, 1965, 1966, 1967, 1968, 1969, 1970,\n",
       "       1971, 1972, 1973, 1974, 1975, 1976, 1977, 1978, 1979, 1980, 1981,\n",
       "       1982, 1983, 1984, 1985, 1986, 1987, 1988, 1989, 1990, 1991, 1992,\n",
       "       1993, 1994, 1995, 1996, 1997, 1998, 1999, 2000, 2001, 2002, 2003,\n",
       "       2004, 2005, 2006, 2007, 2008, 2009, 2010, 2011, 2012, 2013, 2014,\n",
       "       2015, 2016, 2017, 2018, 2019, 2020], dtype=int64)"
      ]
     },
     "execution_count": 24,
     "metadata": {},
     "output_type": "execute_result"
    }
   ],
   "source": [
    "gdp_year = pd.unique(gdp['year'])\n",
    "gdp_year"
   ]
  },
  {
   "cell_type": "markdown",
   "id": "0851f5ed",
   "metadata": {},
   "source": [
    "Computing the dataset shape:"
   ]
  },
  {
   "cell_type": "code",
   "execution_count": 25,
   "id": "21b8c179",
   "metadata": {},
   "outputs": [
    {
     "data": {
      "text/plain": [
       "(10134, 6)"
      ]
     },
     "execution_count": 25,
     "metadata": {},
     "output_type": "execute_result"
    }
   ],
   "source": [
    "gdp.shape"
   ]
  },
  {
   "cell_type": "markdown",
   "id": "4d129741",
   "metadata": {},
   "source": [
    "Looking for duplicates:"
   ]
  },
  {
   "cell_type": "code",
   "execution_count": 26,
   "id": "2284edcf",
   "metadata": {},
   "outputs": [
    {
     "data": {
      "text/plain": [
       "0"
      ]
     },
     "execution_count": 26,
     "metadata": {},
     "output_type": "execute_result"
    }
   ],
   "source": [
    "gdp.duplicated().sum()"
   ]
  },
  {
   "cell_type": "markdown",
   "id": "03c43cf0",
   "metadata": {},
   "source": [
    "Looking for missing data by column:"
   ]
  },
  {
   "cell_type": "code",
   "execution_count": 27,
   "id": "9f3a0643",
   "metadata": {
    "scrolled": true
   },
   "outputs": [
    {
     "data": {
      "text/plain": [
       "year           0\n",
       "rank           0\n",
       "country        0\n",
       "state          0\n",
       "gdp            0\n",
       "gdp_percent    0\n",
       "dtype: int64"
      ]
     },
     "execution_count": 27,
     "metadata": {},
     "output_type": "execute_result"
    }
   ],
   "source": [
    "gdp.isnull().sum()"
   ]
  },
  {
   "cell_type": "markdown",
   "id": "f54d8b7d",
   "metadata": {},
   "source": [
    "### 2.4 - Country Population"
   ]
  },
  {
   "cell_type": "markdown",
   "id": "9e40325a",
   "metadata": {},
   "source": [
    "Displaying the first few rows:"
   ]
  },
  {
   "cell_type": "code",
   "execution_count": 28,
   "id": "81794b72",
   "metadata": {
    "scrolled": true
   },
   "outputs": [
    {
     "data": {
      "text/html": [
       "<div>\n",
       "<style scoped>\n",
       "    .dataframe tbody tr th:only-of-type {\n",
       "        vertical-align: middle;\n",
       "    }\n",
       "\n",
       "    .dataframe tbody tr th {\n",
       "        vertical-align: top;\n",
       "    }\n",
       "\n",
       "    .dataframe thead th {\n",
       "        text-align: right;\n",
       "    }\n",
       "</style>\n",
       "<table border=\"1\" class=\"dataframe\">\n",
       "  <thead>\n",
       "    <tr style=\"text-align: right;\">\n",
       "      <th></th>\n",
       "      <th>Country Name</th>\n",
       "      <th>1960</th>\n",
       "      <th>1961</th>\n",
       "      <th>1962</th>\n",
       "      <th>1963</th>\n",
       "      <th>1964</th>\n",
       "      <th>1965</th>\n",
       "      <th>1966</th>\n",
       "      <th>1967</th>\n",
       "      <th>1968</th>\n",
       "      <th>...</th>\n",
       "      <th>2013</th>\n",
       "      <th>2014</th>\n",
       "      <th>2015</th>\n",
       "      <th>2016</th>\n",
       "      <th>2017</th>\n",
       "      <th>2018</th>\n",
       "      <th>2019</th>\n",
       "      <th>2020</th>\n",
       "      <th>2021</th>\n",
       "      <th>2022</th>\n",
       "    </tr>\n",
       "  </thead>\n",
       "  <tbody>\n",
       "    <tr>\n",
       "      <th>0</th>\n",
       "      <td>Aruba</td>\n",
       "      <td>54608.0</td>\n",
       "      <td>55811.0</td>\n",
       "      <td>56682.0</td>\n",
       "      <td>57475.0</td>\n",
       "      <td>58178.0</td>\n",
       "      <td>58782.0</td>\n",
       "      <td>59291.0</td>\n",
       "      <td>59522.0</td>\n",
       "      <td>59471.0</td>\n",
       "      <td>...</td>\n",
       "      <td>102880.0</td>\n",
       "      <td>103594.0</td>\n",
       "      <td>104257.0</td>\n",
       "      <td>104874.0</td>\n",
       "      <td>105439.0</td>\n",
       "      <td>105962.0</td>\n",
       "      <td>106442.0</td>\n",
       "      <td>106585.0</td>\n",
       "      <td>106537.0</td>\n",
       "      <td>106445.0</td>\n",
       "    </tr>\n",
       "    <tr>\n",
       "      <th>1</th>\n",
       "      <td>Africa Eastern and Southern</td>\n",
       "      <td>130692579.0</td>\n",
       "      <td>134169237.0</td>\n",
       "      <td>137835590.0</td>\n",
       "      <td>141630546.0</td>\n",
       "      <td>145605995.0</td>\n",
       "      <td>149742351.0</td>\n",
       "      <td>153955516.0</td>\n",
       "      <td>158313235.0</td>\n",
       "      <td>162875171.0</td>\n",
       "      <td>...</td>\n",
       "      <td>567892149.0</td>\n",
       "      <td>583651101.0</td>\n",
       "      <td>600008424.0</td>\n",
       "      <td>616377605.0</td>\n",
       "      <td>632746570.0</td>\n",
       "      <td>649757148.0</td>\n",
       "      <td>667242986.0</td>\n",
       "      <td>685112979.0</td>\n",
       "      <td>702977106.0</td>\n",
       "      <td>720859132.0</td>\n",
       "    </tr>\n",
       "    <tr>\n",
       "      <th>2</th>\n",
       "      <td>Afghanistan</td>\n",
       "      <td>8622466.0</td>\n",
       "      <td>8790140.0</td>\n",
       "      <td>8969047.0</td>\n",
       "      <td>9157465.0</td>\n",
       "      <td>9355514.0</td>\n",
       "      <td>9565147.0</td>\n",
       "      <td>9783147.0</td>\n",
       "      <td>10010030.0</td>\n",
       "      <td>10247780.0</td>\n",
       "      <td>...</td>\n",
       "      <td>31541209.0</td>\n",
       "      <td>32716210.0</td>\n",
       "      <td>33753499.0</td>\n",
       "      <td>34636207.0</td>\n",
       "      <td>35643418.0</td>\n",
       "      <td>36686784.0</td>\n",
       "      <td>37769499.0</td>\n",
       "      <td>38972230.0</td>\n",
       "      <td>40099462.0</td>\n",
       "      <td>41128771.0</td>\n",
       "    </tr>\n",
       "    <tr>\n",
       "      <th>3</th>\n",
       "      <td>Africa Western and Central</td>\n",
       "      <td>97256290.0</td>\n",
       "      <td>99314028.0</td>\n",
       "      <td>101445032.0</td>\n",
       "      <td>103667517.0</td>\n",
       "      <td>105959979.0</td>\n",
       "      <td>108336203.0</td>\n",
       "      <td>110798486.0</td>\n",
       "      <td>113319950.0</td>\n",
       "      <td>115921723.0</td>\n",
       "      <td>...</td>\n",
       "      <td>387204553.0</td>\n",
       "      <td>397855507.0</td>\n",
       "      <td>408690375.0</td>\n",
       "      <td>419778384.0</td>\n",
       "      <td>431138704.0</td>\n",
       "      <td>442646825.0</td>\n",
       "      <td>454306063.0</td>\n",
       "      <td>466189102.0</td>\n",
       "      <td>478185907.0</td>\n",
       "      <td>490330870.0</td>\n",
       "    </tr>\n",
       "    <tr>\n",
       "      <th>4</th>\n",
       "      <td>Angola</td>\n",
       "      <td>5357195.0</td>\n",
       "      <td>5441333.0</td>\n",
       "      <td>5521400.0</td>\n",
       "      <td>5599827.0</td>\n",
       "      <td>5673199.0</td>\n",
       "      <td>5736582.0</td>\n",
       "      <td>5787044.0</td>\n",
       "      <td>5827503.0</td>\n",
       "      <td>5868203.0</td>\n",
       "      <td>...</td>\n",
       "      <td>26147002.0</td>\n",
       "      <td>27128337.0</td>\n",
       "      <td>28127721.0</td>\n",
       "      <td>29154746.0</td>\n",
       "      <td>30208628.0</td>\n",
       "      <td>31273533.0</td>\n",
       "      <td>32353588.0</td>\n",
       "      <td>33428486.0</td>\n",
       "      <td>34503774.0</td>\n",
       "      <td>35588987.0</td>\n",
       "    </tr>\n",
       "  </tbody>\n",
       "</table>\n",
       "<p>5 rows × 64 columns</p>\n",
       "</div>"
      ],
      "text/plain": [
       "                  Country Name         1960         1961         1962  \\\n",
       "0                        Aruba      54608.0      55811.0      56682.0   \n",
       "1  Africa Eastern and Southern  130692579.0  134169237.0  137835590.0   \n",
       "2                  Afghanistan    8622466.0    8790140.0    8969047.0   \n",
       "3   Africa Western and Central   97256290.0   99314028.0  101445032.0   \n",
       "4                       Angola    5357195.0    5441333.0    5521400.0   \n",
       "\n",
       "          1963         1964         1965         1966         1967  \\\n",
       "0      57475.0      58178.0      58782.0      59291.0      59522.0   \n",
       "1  141630546.0  145605995.0  149742351.0  153955516.0  158313235.0   \n",
       "2    9157465.0    9355514.0    9565147.0    9783147.0   10010030.0   \n",
       "3  103667517.0  105959979.0  108336203.0  110798486.0  113319950.0   \n",
       "4    5599827.0    5673199.0    5736582.0    5787044.0    5827503.0   \n",
       "\n",
       "          1968  ...         2013         2014         2015         2016  \\\n",
       "0      59471.0  ...     102880.0     103594.0     104257.0     104874.0   \n",
       "1  162875171.0  ...  567892149.0  583651101.0  600008424.0  616377605.0   \n",
       "2   10247780.0  ...   31541209.0   32716210.0   33753499.0   34636207.0   \n",
       "3  115921723.0  ...  387204553.0  397855507.0  408690375.0  419778384.0   \n",
       "4    5868203.0  ...   26147002.0   27128337.0   28127721.0   29154746.0   \n",
       "\n",
       "          2017         2018         2019         2020         2021  \\\n",
       "0     105439.0     105962.0     106442.0     106585.0     106537.0   \n",
       "1  632746570.0  649757148.0  667242986.0  685112979.0  702977106.0   \n",
       "2   35643418.0   36686784.0   37769499.0   38972230.0   40099462.0   \n",
       "3  431138704.0  442646825.0  454306063.0  466189102.0  478185907.0   \n",
       "4   30208628.0   31273533.0   32353588.0   33428486.0   34503774.0   \n",
       "\n",
       "          2022  \n",
       "0     106445.0  \n",
       "1  720859132.0  \n",
       "2   41128771.0  \n",
       "3  490330870.0  \n",
       "4   35588987.0  \n",
       "\n",
       "[5 rows x 64 columns]"
      ]
     },
     "execution_count": 28,
     "metadata": {},
     "output_type": "execute_result"
    }
   ],
   "source": [
    "pop.head()"
   ]
  },
  {
   "cell_type": "markdown",
   "id": "ceea599b",
   "metadata": {},
   "source": [
    "Computing all the single countries:"
   ]
  },
  {
   "cell_type": "code",
   "execution_count": 29,
   "id": "e39002a9",
   "metadata": {},
   "outputs": [
    {
     "data": {
      "text/plain": [
       "array(['Aruba', 'Africa Eastern and Southern', 'Afghanistan',\n",
       "       'Africa Western and Central', 'Angola', 'Albania', 'Andorra',\n",
       "       'Arab World', 'United Arab Emirates', 'Argentina', 'Armenia',\n",
       "       'American Samoa', 'Antigua and Barbuda', 'Australia', 'Austria',\n",
       "       'Azerbaijan', 'Burundi', 'Belgium', 'Benin', 'Burkina Faso',\n",
       "       'Bangladesh', 'Bulgaria', 'Bahrain', 'Bahamas, The',\n",
       "       'Bosnia and Herzegovina', 'Belarus', 'Belize', 'Bermuda',\n",
       "       'Bolivia', 'Brazil', 'Barbados', 'Brunei Darussalam', 'Bhutan',\n",
       "       'Botswana', 'Central African Republic', 'Canada',\n",
       "       'Central Europe and the Baltics', 'Switzerland', 'Channel Islands',\n",
       "       'Chile', 'China', \"Cote d'Ivoire\", 'Cameroon', 'Congo, Dem. Rep.',\n",
       "       'Congo, Rep.', 'Colombia', 'Comoros', 'Cabo Verde', 'Costa Rica',\n",
       "       'Caribbean small states', 'Cuba', 'Curacao', 'Cayman Islands',\n",
       "       'Cyprus', 'Czechia', 'Germany', 'Djibouti', 'Dominica', 'Denmark',\n",
       "       'Dominican Republic', 'Algeria',\n",
       "       'East Asia & Pacific (excluding high income)',\n",
       "       'Early-demographic dividend', 'East Asia & Pacific',\n",
       "       'Europe & Central Asia (excluding high income)',\n",
       "       'Europe & Central Asia', 'Ecuador', 'Egypt, Arab Rep.',\n",
       "       'Euro area', 'Eritrea', 'Spain', 'Estonia', 'Ethiopia',\n",
       "       'European Union', 'Fragile and conflict affected situations',\n",
       "       'Finland', 'Fiji', 'France', 'Faroe Islands',\n",
       "       'Micronesia, Fed. Sts.', 'Gabon', 'United Kingdom', 'Georgia',\n",
       "       'Ghana', 'Gibraltar', 'Guinea', 'Gambia, The', 'Guinea-Bissau',\n",
       "       'Equatorial Guinea', 'Greece', 'Grenada', 'Greenland', 'Guatemala',\n",
       "       'Guam', 'Guyana', 'High income', 'Hong Kong SAR, China',\n",
       "       'Honduras', 'Heavily indebted poor countries (HIPC)', 'Croatia',\n",
       "       'Haiti', 'Hungary', 'IBRD only', 'IDA & IBRD total', 'IDA total',\n",
       "       'IDA blend', 'Indonesia', 'IDA only', 'Isle of Man', 'India',\n",
       "       'Not classified', 'Ireland', 'Iran, Islamic Rep.', 'Iraq',\n",
       "       'Iceland', 'Israel', 'Italy', 'Jamaica', 'Jordan', 'Japan',\n",
       "       'Kazakhstan', 'Kenya', 'Kyrgyz Republic', 'Cambodia', 'Kiribati',\n",
       "       'St. Kitts and Nevis', 'Korea, Rep.', 'Kuwait',\n",
       "       'Latin America & Caribbean (excluding high income)', 'Lao PDR',\n",
       "       'Lebanon', 'Liberia', 'Libya', 'St. Lucia',\n",
       "       'Latin America & Caribbean',\n",
       "       'Least developed countries: UN classification', 'Low income',\n",
       "       'Liechtenstein', 'Sri Lanka', 'Lower middle income',\n",
       "       'Low & middle income', 'Lesotho', 'Late-demographic dividend',\n",
       "       'Lithuania', 'Luxembourg', 'Latvia', 'Macao SAR, China',\n",
       "       'St. Martin (French part)', 'Morocco', 'Monaco', 'Moldova',\n",
       "       'Madagascar', 'Maldives', 'Middle East & North Africa', 'Mexico',\n",
       "       'Marshall Islands', 'Middle income', 'North Macedonia', 'Mali',\n",
       "       'Malta', 'Myanmar',\n",
       "       'Middle East & North Africa (excluding high income)', 'Montenegro',\n",
       "       'Mongolia', 'Northern Mariana Islands', 'Mozambique', 'Mauritania',\n",
       "       'Mauritius', 'Malawi', 'Malaysia', 'North America', 'Namibia',\n",
       "       'New Caledonia', 'Niger', 'Nigeria', 'Nicaragua', 'Netherlands',\n",
       "       'Norway', 'Nepal', 'Nauru', 'New Zealand', 'OECD members', 'Oman',\n",
       "       'Other small states', 'Pakistan', 'Panama', 'Peru', 'Philippines',\n",
       "       'Palau', 'Papua New Guinea', 'Poland', 'Pre-demographic dividend',\n",
       "       'Puerto Rico', \"Korea, Dem. People's Rep.\", 'Portugal', 'Paraguay',\n",
       "       'West Bank and Gaza', 'Pacific island small states',\n",
       "       'Post-demographic dividend', 'French Polynesia', 'Qatar',\n",
       "       'Romania', 'Russian Federation', 'Rwanda', 'South Asia',\n",
       "       'Saudi Arabia', 'Sudan', 'Senegal', 'Singapore', 'Solomon Islands',\n",
       "       'Sierra Leone', 'El Salvador', 'San Marino', 'Somalia', 'Serbia',\n",
       "       'Sub-Saharan Africa (excluding high income)', 'South Sudan',\n",
       "       'Sub-Saharan Africa', 'Small states', 'Sao Tome and Principe',\n",
       "       'Suriname', 'Slovak Republic', 'Slovenia', 'Sweden', 'Eswatini',\n",
       "       'Sint Maarten (Dutch part)', 'Seychelles', 'Syrian Arab Republic',\n",
       "       'Turks and Caicos Islands', 'Chad',\n",
       "       'East Asia & Pacific (IDA & IBRD countries)',\n",
       "       'Europe & Central Asia (IDA & IBRD countries)', 'Togo', 'Thailand',\n",
       "       'Tajikistan', 'Turkmenistan',\n",
       "       'Latin America & the Caribbean (IDA & IBRD countries)',\n",
       "       'Timor-Leste', 'Middle East & North Africa (IDA & IBRD countries)',\n",
       "       'Tonga', 'South Asia (IDA & IBRD)',\n",
       "       'Sub-Saharan Africa (IDA & IBRD countries)', 'Trinidad and Tobago',\n",
       "       'Tunisia', 'Turkiye', 'Tuvalu', 'Tanzania', 'Uganda', 'Ukraine',\n",
       "       'Upper middle income', 'Uruguay', 'United States', 'Uzbekistan',\n",
       "       'St. Vincent and the Grenadines', 'Venezuela, RB',\n",
       "       'British Virgin Islands', 'Virgin Islands (U.S.)', 'Viet Nam',\n",
       "       'Vanuatu', 'World', 'Samoa', 'Kosovo', 'Yemen, Rep.',\n",
       "       'South Africa', 'Zambia', 'Zimbabwe'], dtype=object)"
      ]
     },
     "execution_count": 29,
     "metadata": {},
     "output_type": "execute_result"
    }
   ],
   "source": [
    "pop_country = pd.unique(pop['Country Name'])\n",
    "pop_country"
   ]
  },
  {
   "cell_type": "markdown",
   "id": "6e6f86e6",
   "metadata": {},
   "source": [
    "Computing all the single years:"
   ]
  },
  {
   "cell_type": "code",
   "execution_count": 30,
   "id": "1d4f3121",
   "metadata": {
    "scrolled": true
   },
   "outputs": [
    {
     "data": {
      "text/plain": [
       "array(['1960', '1961', '1962', '1963', '1964', '1965', '1966', '1967',\n",
       "       '1968', '1969', '1970', '1971', '1972', '1973', '1974', '1975',\n",
       "       '1976', '1977', '1978', '1979', '1980', '1981', '1982', '1983',\n",
       "       '1984', '1985', '1986', '1987', '1988', '1989', '1990', '1991',\n",
       "       '1992', '1993', '1994', '1995', '1996', '1997', '1998', '1999',\n",
       "       '2000', '2001', '2002', '2003', '2004', '2005', '2006', '2007',\n",
       "       '2008', '2009', '2010', '2011', '2012', '2013', '2014', '2015',\n",
       "       '2016', '2017', '2018', '2019', '2020', '2021', '2022'],\n",
       "      dtype=object)"
      ]
     },
     "execution_count": 30,
     "metadata": {},
     "output_type": "execute_result"
    }
   ],
   "source": [
    "pop_year = pop.columns[1:].to_numpy()\n",
    "pop_year"
   ]
  },
  {
   "cell_type": "markdown",
   "id": "8c122ed0",
   "metadata": {},
   "source": [
    "Computing the dataset shape:"
   ]
  },
  {
   "cell_type": "code",
   "execution_count": 31,
   "id": "b66a2a57",
   "metadata": {},
   "outputs": [
    {
     "data": {
      "text/plain": [
       "(266, 64)"
      ]
     },
     "execution_count": 31,
     "metadata": {},
     "output_type": "execute_result"
    }
   ],
   "source": [
    "pop.shape"
   ]
  },
  {
   "cell_type": "markdown",
   "id": "a4a94943",
   "metadata": {},
   "source": [
    "Looking for duplicates:"
   ]
  },
  {
   "cell_type": "code",
   "execution_count": 32,
   "id": "589f76b4",
   "metadata": {},
   "outputs": [
    {
     "data": {
      "text/plain": [
       "0"
      ]
     },
     "execution_count": 32,
     "metadata": {},
     "output_type": "execute_result"
    }
   ],
   "source": [
    "pop.duplicated().sum()"
   ]
  },
  {
   "cell_type": "markdown",
   "id": "14975351",
   "metadata": {},
   "source": [
    "Looking for missing data by column:"
   ]
  },
  {
   "cell_type": "code",
   "execution_count": 33,
   "id": "ccc29763",
   "metadata": {},
   "outputs": [
    {
     "data": {
      "text/plain": [
       "Country Name    0\n",
       "1960            0\n",
       "1961            0\n",
       "1962            0\n",
       "1963            0\n",
       "               ..\n",
       "2018            0\n",
       "2019            0\n",
       "2020            0\n",
       "2021            0\n",
       "2022            0\n",
       "Length: 64, dtype: int64"
      ]
     },
     "execution_count": 33,
     "metadata": {},
     "output_type": "execute_result"
    }
   ],
   "source": [
    "pop.isnull().sum()"
   ]
  },
  {
   "cell_type": "markdown",
   "id": "3c6aa128-1f9d-4b07-9e2e-88e7e8c327bc",
   "metadata": {},
   "source": [
    "# Third Section - Data Preparation"
   ]
  },
  {
   "cell_type": "markdown",
   "id": "02d1c05d",
   "metadata": {},
   "source": [
    "## 3.1 - Data cleaning"
   ]
  },
  {
   "cell_type": "markdown",
   "id": "f87ae844",
   "metadata": {},
   "source": [
    "#### 3.1.1 - Global Data on Sustainable Energy"
   ]
  },
  {
   "cell_type": "markdown",
   "id": "24ed25bf-8521-4311-b5e8-53e69db6396a",
   "metadata": {},
   "source": [
    "Removing unnecessary columns"
   ]
  },
  {
   "cell_type": "code",
   "execution_count": 34,
   "id": "241dca88-2b8b-4a66-9744-266cf62633b3",
   "metadata": {},
   "outputs": [],
   "source": [
    "sus_en.drop(columns=['Access to clean fuels for cooking',\n",
    "                     'Renewable-electricity-generating-capacity-per-capita',\n",
    "                     'Financial flows to developing countries (US $)',\n",
    "                     'Renewable energy share in the total final energy consumption (%)',\n",
    "                     'Low-carbon electricity (% electricity)',\n",
    "                     'Primary energy consumption per capita (kWh/person)',\n",
    "                     'Energy intensity level of primary energy (MJ/$2017 PPP GDP)',\n",
    "                     'Renewables (% equivalent primary energy)',\n",
    "                     'gdp_growth','gdp_per_capita', 'Density\\\\n(P/Km2)',\n",
    "                     'Land Area(Km2)', 'Latitude', 'Longitude'], inplace=True)\n",
    "                     "
   ]
  },
  {
   "cell_type": "markdown",
   "id": "199a4bb9",
   "metadata": {},
   "source": [
    "Renaming the column 'Entity' as 'Country':"
   ]
  },
  {
   "cell_type": "code",
   "execution_count": 35,
   "id": "0a7d4200",
   "metadata": {},
   "outputs": [],
   "source": [
    "sus_en = sus_en.rename(columns={'Entity':'Country'})"
   ]
  },
  {
   "cell_type": "markdown",
   "id": "2512604e",
   "metadata": {},
   "source": [
    "#### 3.1.2 - Global Warming Trends"
   ]
  },
  {
   "cell_type": "markdown",
   "id": "73056112",
   "metadata": {},
   "source": [
    "Formatting country names:"
   ]
  },
  {
   "cell_type": "code",
   "execution_count": 36,
   "id": "aa92c677",
   "metadata": {},
   "outputs": [],
   "source": [
    "# Creating a dict with old and new names\n",
    "namedict = {'Afghanistan, Islamic Rep. of' : 'Afghanistan',\n",
    "            'American Samoa' : 'Samoa',\n",
    "            'Andorra, Principality of' :  'Andorra',\n",
    "            'Bahamas, The' : 'Bahamas',\n",
    "            'Bahrain, Kingdom of' : 'Bahrain',\n",
    "            'British Virgin Islands' : 'Virgin Islands UK',\n",
    "            'Brunei Darussalam' : 'Brunei',\n",
    "            'Cabo Verde' : 'Cape Verde',\n",
    "            'Central African Rep.' : 'Central African Republic',\n",
    "            'China, P.R.: Hong Kong' : 'Hong Kong',\n",
    "            'China, P.R.: Macao' : 'Macao',\n",
    "            'China, P.R.: Mainland' : 'China',\n",
    "            'Comoros, Union of the' : 'Comoros',\n",
    "            'Congo, Dem. Rep. of the' : 'Democratic Republic of Congo',\n",
    "            'Congo, Rep. of' : 'Congo',\n",
    "            'Dominican Rep.' : 'Dominican Republic',\n",
    "            'Egypt, Arab Rep. of' : 'Egypt',\n",
    "            'Equatorial Guinea, Rep. of' : 'Equatorial Guinea',\n",
    "            'Eswatini, Kingdom of' : 'Eswatini',\n",
    "            'Fiji, Rep. of' : 'Fiji',\n",
    "            'Gambia, The' : 'Gambia',\n",
    "            'Holy See' : 'Vatican',\n",
    "            'Iran, Islamic Rep. of' : 'Iran',\n",
    "            \"Korea, Dem. People's Rep. of\" : 'North Korea',\n",
    "            'Korea, Rep. of' : 'South Korea',\n",
    "            \"Lao People's Dem. Rep.\" : 'Laos',\n",
    "            'Lesotho, Kingdom of' : 'Lesotho',\n",
    "            'Madagascar, Rep. of' : 'Madagascar',\n",
    "            'Mauritania, Islamic Rep. of' : 'Mauritania',\n",
    "            'Mozambique, Rep. of' : 'Mozambique',\n",
    "            'Netherlands, The' : 'Netherlands',\n",
    "            'Poland, Rep. of' : 'Poland',\n",
    "            'San Marino, Rep. of' : 'San Marino',\n",
    "            'São Tomé and Príncipe, Dem. Rep. of' : 'Sao Tome and Principe',\n",
    "            'St. Kitts and Nevis' : 'Saint Kitts and Nevis',\n",
    "            'St. Lucia' : 'Saint Lucia',\n",
    "            'St. Vincent and the Grenadines' : 'Saint Vincent and the Grenadines',\n",
    "            'Syrian Arab Rep.' : 'Syria',\n",
    "            'Taiwan Province of China' : 'Taiwan',\n",
    "            'Tanzania, United Rep. of' : 'Tanzania',\n",
    "            'United States Virgin Islands' : 'Virgin Islands US',\n",
    "            'Venezuela, Rep. Bolivariana de' : 'Venezuela',\n",
    "            'West Bank and Gaza' : 'Palestine'\n",
    "           }"
   ]
  },
  {
   "cell_type": "code",
   "execution_count": 37,
   "id": "ffb70f92",
   "metadata": {},
   "outputs": [],
   "source": [
    "# Replacing the old names with the new ones\n",
    "tempe['Country'].replace(namedict, inplace=True)"
   ]
  },
  {
   "cell_type": "markdown",
   "id": "47fda29d",
   "metadata": {},
   "source": [
    "Computing the new single countries:"
   ]
  },
  {
   "cell_type": "code",
   "execution_count": 38,
   "id": "01a8ce4f",
   "metadata": {},
   "outputs": [
    {
     "data": {
      "text/plain": [
       "array(['Afghanistan', 'Albania', 'Algeria', 'Samoa', 'Andorra', 'Angola',\n",
       "       'Anguilla', 'Antigua and Barbuda', 'Argentina', 'Australia',\n",
       "       'Austria', 'Bahamas', 'Bahrain', 'Bangladesh', 'Barbados',\n",
       "       'Belize', 'Benin', 'Bhutan', 'Bolivia', 'Botswana', 'Brazil',\n",
       "       'Virgin Islands UK', 'Brunei', 'Bulgaria', 'Burkina Faso',\n",
       "       'Cape Verde', 'Cambodia', 'Cameroon', 'Canada', 'Cayman Islands',\n",
       "       'Central African Republic', 'Chad', 'Chile', 'Hong Kong', 'Macao',\n",
       "       'China', 'Colombia', 'Comoros', 'Democratic Republic of Congo',\n",
       "       'Congo', 'Cook Islands', 'Cuba', 'Cyprus', 'Denmark', 'Djibouti',\n",
       "       'Dominica', 'Dominican Republic', 'Ecuador', 'Egypt',\n",
       "       'El Salvador', 'Equatorial Guinea', 'Eswatini', 'Faroe Islands',\n",
       "       'Fiji', 'Finland', 'France', 'French Polynesia', 'Gabon', 'Gambia',\n",
       "       'Germany', 'Ghana', 'Gibraltar', 'Greece', 'Greenland', 'Grenada',\n",
       "       'Guadeloupe', 'Guatemala', 'Guinea', 'Guinea-Bissau', 'Guyana',\n",
       "       'Haiti', 'Vatican', 'Honduras', 'Hungary', 'Iceland', 'India',\n",
       "       'Indonesia', 'Iran', 'Iraq', 'Ireland', 'Isle of Man', 'Israel',\n",
       "       'Italy', 'Jamaica', 'Japan', 'Jordan', 'Kenya', 'Kiribati',\n",
       "       'North Korea', 'South Korea', 'Kuwait', 'Laos', 'Lebanon',\n",
       "       'Lesotho', 'Liberia', 'Libya', 'Liechtenstein', 'Madagascar',\n",
       "       'Malawi', 'Malaysia', 'Maldives', 'Mali', 'Malta', 'Martinique',\n",
       "       'Mauritania', 'Mauritius', 'Mayotte', 'Mexico', 'Monaco',\n",
       "       'Mongolia', 'Montserrat', 'Morocco', 'Mozambique', 'Myanmar',\n",
       "       'Namibia', 'Nepal', 'Netherlands', 'New Caledonia', 'New Zealand',\n",
       "       'Nicaragua', 'Niger', 'Nigeria', 'Norfolk Island', 'Norway',\n",
       "       'Oman', 'Pakistan', 'Panama', 'Papua New Guinea', 'Paraguay',\n",
       "       'Peru', 'Philippines', 'Poland', 'Portugal', 'Puerto Rico',\n",
       "       'Qatar', 'Romania', 'Saint Helena', 'Saint Pierre and Miquelon',\n",
       "       'San Marino', 'Sao Tome and Principe', 'Saudi Arabia', 'Senegal',\n",
       "       'Seychelles', 'Sierra Leone', 'Solomon Islands', 'Somalia',\n",
       "       'South Africa', 'Spain', 'Sri Lanka', 'Saint Kitts and Nevis',\n",
       "       'Saint Lucia', 'Saint Vincent and the Grenadines', 'Suriname',\n",
       "       'Sweden', 'Switzerland', 'Syria', 'Taiwan', 'Tanzania', 'Thailand',\n",
       "       'Togo', 'Tonga', 'Trinidad and Tobago', 'Tunisia',\n",
       "       'Turks and Caicos Islands', 'Tuvalu', 'Uganda',\n",
       "       'United Arab Emirates', 'United Kingdom', 'United States',\n",
       "       'Virgin Islands US', 'Uruguay', 'Vanuatu', 'Venezuela', 'Vietnam',\n",
       "       'Wallis and Futuna Islands', 'Palestine', 'Western Sahara',\n",
       "       'World', 'Zambia', 'Zimbabwe'], dtype=object)"
      ]
     },
     "execution_count": 38,
     "metadata": {},
     "output_type": "execute_result"
    }
   ],
   "source": [
    "tempe_country = pd.unique(tempe['Country'])\n",
    "tempe_country"
   ]
  },
  {
   "cell_type": "markdown",
   "id": "de181a48",
   "metadata": {},
   "source": [
    "Formatting year values:"
   ]
  },
  {
   "cell_type": "code",
   "execution_count": 39,
   "id": "255e1a21",
   "metadata": {},
   "outputs": [],
   "source": [
    "# Creating a remover function\n",
    "def remover(row):\n",
    "    return int(row[1:])"
   ]
  },
  {
   "cell_type": "code",
   "execution_count": 40,
   "id": "42f67c77",
   "metadata": {},
   "outputs": [],
   "source": [
    "# Implementing the remover function to the year column\n",
    "tempe['Year'] = tempe['Year'].apply(remover)"
   ]
  },
  {
   "cell_type": "markdown",
   "id": "7aebf6a4",
   "metadata": {},
   "source": [
    "#### 3.1.3 - GDP of Each Country and Region"
   ]
  },
  {
   "cell_type": "markdown",
   "id": "670537fe",
   "metadata": {},
   "source": [
    "Removing the useless columns and formatting the names of the ones left:"
   ]
  },
  {
   "cell_type": "code",
   "execution_count": 41,
   "id": "40b85a75",
   "metadata": {},
   "outputs": [],
   "source": [
    "gdp.drop(['rank', 'state', 'gdp_percent'], axis=1, inplace=True)\n",
    "gdp.rename(columns={'year':'Year', 'country':'Country', 'gdp':'GDP'}, inplace=True)"
   ]
  },
  {
   "cell_type": "markdown",
   "id": "0b560d11",
   "metadata": {},
   "source": [
    "Formatting country names:"
   ]
  },
  {
   "cell_type": "code",
   "execution_count": 42,
   "id": "0bf3e36a",
   "metadata": {},
   "outputs": [],
   "source": [
    "# Creating a dict with old and new names\n",
    "namedict = {\"C ô te d'Ivoire\" : \"Cote d'Ivoire\",\n",
    "            'Central Africa' : 'Central African Republic',\n",
    "            'Columbia' : 'Colombia',\n",
    "            'Congo (Brazzaville)' : 'Congo',\n",
    "            'Congo (gold)' : 'Democratic Republic of Congo',\n",
    "            'Cura ç Ao' : 'Curacao',\n",
    "            'Czech' : 'Czechia',\n",
    "            'Fiji Islands' : 'Fiji',\n",
    "            'Micronesia (Federated States of)' : 'Micronesia (country)',\n",
    "            'South Sultan' : 'South Sudan',\n",
    "            'the United States' : 'United States'\n",
    "           }"
   ]
  },
  {
   "cell_type": "code",
   "execution_count": 43,
   "id": "62bc2e4c",
   "metadata": {},
   "outputs": [],
   "source": [
    "# Replacing the old names with the new ones\n",
    "gdp['Country'].replace(namedict, inplace=True)"
   ]
  },
  {
   "cell_type": "markdown",
   "id": "23cd78e3",
   "metadata": {},
   "source": [
    "#### 3.1.4 - Country Population"
   ]
  },
  {
   "cell_type": "markdown",
   "id": "905bcb00",
   "metadata": {},
   "source": [
    "Renaming the column 'Country Name' as 'Country':"
   ]
  },
  {
   "cell_type": "code",
   "execution_count": 44,
   "id": "0e194202",
   "metadata": {},
   "outputs": [],
   "source": [
    "pop.rename(columns={'Country Name':'Country'}, inplace=True)"
   ]
  },
  {
   "cell_type": "markdown",
   "id": "01e3d8e4",
   "metadata": {},
   "source": [
    "Transposing the year columns as row values in a column 'Year':"
   ]
  },
  {
   "cell_type": "code",
   "execution_count": 45,
   "id": "bd38cedf",
   "metadata": {
    "scrolled": true
   },
   "outputs": [],
   "source": [
    "pop = pop.melt(id_vars='Country', var_name='Year', value_name='Population')"
   ]
  },
  {
   "cell_type": "markdown",
   "id": "718934b8",
   "metadata": {},
   "source": [
    "Formatting year values:"
   ]
  },
  {
   "cell_type": "code",
   "execution_count": 46,
   "id": "f5bc70c1",
   "metadata": {},
   "outputs": [],
   "source": [
    "# Creating a function to convert str to int\n",
    "def intmaker(row):\n",
    "    return int(row)"
   ]
  },
  {
   "cell_type": "code",
   "execution_count": 47,
   "id": "cd1e2495",
   "metadata": {},
   "outputs": [],
   "source": [
    "# Implementing the function to the year column\n",
    "pop['Year'] = pop['Year'].apply(intmaker)"
   ]
  },
  {
   "cell_type": "markdown",
   "id": "ac8d95cb",
   "metadata": {},
   "source": [
    "Formatting country names:"
   ]
  },
  {
   "cell_type": "code",
   "execution_count": 48,
   "id": "df963308",
   "metadata": {},
   "outputs": [],
   "source": [
    "# Creating a dict with old and new names\n",
    "namedict = {'Bahamas, The' : 'Bahamas',\n",
    "            'British Virgin Islands' : 'Virgin Islands UK',\n",
    "            'Cabo Verde' : 'Cape Verde',\n",
    "            'Congo, Dem. Rep.' : 'Democratic Republic of Congo',\n",
    "            'Congo, Rep.' : 'Congo',\n",
    "            'Gambia, The' : 'Gambia',\n",
    "            'Hong Kong SAR, China' : 'Hong Kong',\n",
    "            'Iran, Islamic Rep.' : 'Iran',\n",
    "            \"Korea, Dem. People's Rep.\" : 'North Korea',\n",
    "            'Korea, Rep.' : 'South Korea',\n",
    "            'Kyrgyz Republic' : 'Kyrgyzstan',\n",
    "            'Lao PDR' : 'Laos',\n",
    "            'Macao SAR, China' : 'Macao',\n",
    "            'Micronesia, Fed. Sts.' : 'Micronesia (country)',\n",
    "            'Russian Federation' : 'Russia',\n",
    "            'Slovak Republic' : 'Slovakia',\n",
    "            'St. Kitts and Nevis' :  'Saint Kitts and Nevis',\n",
    "            'St. Lucia' : 'Saint Lucia',\n",
    "            'St. Vincent and the Grenadines' : 'Saint Vincent and the Grenadines',\n",
    "            'Syrian Arab Republic' : 'Syria',\n",
    "            'Timor-Leste' : 'East Timor',\n",
    "            'Venezuela, RB' : 'Venezuela',\n",
    "            'Viet Nam' : 'Vietnam',\n",
    "            'Virgin Islands (U.S.)' : 'Virgin Islands US',\n",
    "            'West Bank and Gaza' : 'Palestine',\n",
    "            'Yemen, Rep.' : 'Yemen'\n",
    "           }"
   ]
  },
  {
   "cell_type": "code",
   "execution_count": 49,
   "id": "72849753",
   "metadata": {},
   "outputs": [],
   "source": [
    "# Replacing the old names with the new ones\n",
    "pop['Country'].replace(namedict, inplace=True)"
   ]
  },
  {
   "cell_type": "markdown",
   "id": "feb0a8da-4624-4fa1-a3ba-97122086355f",
   "metadata": {},
   "source": [
    "## 3.2 - Data Integration"
   ]
  },
  {
   "cell_type": "markdown",
   "id": "6c3bf128-10f9-42e4-8bd5-db10291871a3",
   "metadata": {},
   "source": [
    "#### 3.2.1 - Data About Russian Energy Production and CO2 Emissions"
   ]
  },
  {
   "cell_type": "markdown",
   "id": "cae54287-1528-47d2-a3b9-6a06bcace713",
   "metadata": {},
   "source": [
    "Adding data about Russia changing the units to TWh:"
   ]
  },
  {
   "cell_type": "code",
   "execution_count": 50,
   "id": "2062b059-c43e-4aa0-8f2f-1044b9216818",
   "metadata": {},
   "outputs": [],
   "source": [
    "rus_en['Value'] = rus_en['Value']/1000\n",
    "rus_en.drop('Units', axis = 1, inplace = True)"
   ]
  },
  {
   "cell_type": "markdown",
   "id": "a90855ca-d562-4d85-b0b7-83793350f2a6",
   "metadata": {},
   "source": [
    "Finding unique values for the energy sources in the dataset:"
   ]
  },
  {
   "cell_type": "code",
   "execution_count": 51,
   "id": "4c09f011-66d6-4ea7-a397-95061662958c",
   "metadata": {},
   "outputs": [
    {
     "data": {
      "text/plain": [
       "array(['Coal', 'Oil', 'Natural gas', 'Nuclear', 'Hydro', 'Biofuels',\n",
       "       'Waste', 'Wind', 'Solar PV', 'Geothermal'], dtype=object)"
      ]
     },
     "execution_count": 51,
     "metadata": {},
     "output_type": "execute_result"
    }
   ],
   "source": [
    "rus_en['electricity generation sources in Russia'].unique()"
   ]
  },
  {
   "cell_type": "markdown",
   "id": "edf397f2-75ea-40e7-90c2-6538d99289a4",
   "metadata": {},
   "source": [
    "Adapting the shape of the rus dataset to that of sus_en:"
   ]
  },
  {
   "cell_type": "code",
   "execution_count": 52,
   "id": "3412d30a-9388-4f46-97a8-e630b0831a58",
   "metadata": {},
   "outputs": [],
   "source": [
    "rus_en = rus_en.pivot(columns = 'electricity generation sources in Russia', values = 'Value', index = 'Year').reset_index()\n",
    "\n",
    "rus_en.fillna(0, inplace = True)\n",
    "\n",
    "rus_en['Electricity from renewables (TWh)'] = rus_en['Hydro'] + rus_en['Biofuels'] + rus_en['Wind'] + rus_en['Solar PV'] + rus_en['Geothermal']\n",
    "\n",
    "rus_en.rename(columns = {'Nuclear':'Electricity from nuclear (TWh)'}, inplace = True)\n",
    "\n",
    "rus_en['Electricity from fossil fuels (TWh)'] = rus_en['Coal'] + rus_en['Oil'] + rus_en['Natural gas']\n",
    "\n",
    "rus_en.drop(columns = ['Hydro', 'Biofuels', 'Waste', 'Wind', 'Solar PV', 'Geothermal', 'Coal', 'Oil', 'Natural gas'], inplace = True)"
   ]
  },
  {
   "cell_type": "markdown",
   "id": "15a85d10-16de-4ddd-a5f3-1c4a257388cd",
   "metadata": {},
   "source": [
    "Adding data about access to electricity and CO2 emissions:"
   ]
  },
  {
   "cell_type": "code",
   "execution_count": 53,
   "id": "94eb6d62-6220-4c08-9742-ef6b491b5415",
   "metadata": {},
   "outputs": [],
   "source": [
    "rus_en = rus_en.merge(rus[['Country','Year','Access to electricity (% of population)','Value_co2_emissions_kt_by_country']], on = 'Year')"
   ]
  },
  {
   "cell_type": "markdown",
   "id": "8fcba464-84ee-4705-8d79-d40bc8d0d0c3",
   "metadata": {},
   "source": [
    "Adding data to the sus_en dataframe:"
   ]
  },
  {
   "cell_type": "code",
   "execution_count": 54,
   "id": "7405fa87-5557-43e3-a46f-2ed0a073dcdc",
   "metadata": {},
   "outputs": [],
   "source": [
    "sus_en = pd.concat([sus_en,rus_en])"
   ]
  },
  {
   "cell_type": "markdown",
   "id": "9a55bca9-27d1-4df4-8070-b90a62b51b38",
   "metadata": {},
   "source": [
    "#### 3.2.2 - Data About Russian Temperature Deviation"
   ]
  },
  {
   "cell_type": "markdown",
   "id": "4f1f766d",
   "metadata": {},
   "source": [
    "Adding the column ISO2:"
   ]
  },
  {
   "cell_type": "code",
   "execution_count": 55,
   "id": "453e77bb",
   "metadata": {},
   "outputs": [],
   "source": [
    "rus['ISO2'] = 'RU'"
   ]
  },
  {
   "cell_type": "markdown",
   "id": "d08aab93",
   "metadata": {},
   "source": [
    "Adding data to the tempe dataframe:"
   ]
  },
  {
   "cell_type": "code",
   "execution_count": 56,
   "id": "7d52bc52",
   "metadata": {},
   "outputs": [],
   "source": [
    "tempe = pd.concat([tempe,rus.drop(['Access to electricity (% of population)','Value_co2_emissions_t_by_country','Value_co2_emissions_kt_by_country'], axis = 1)])"
   ]
  },
  {
   "cell_type": "markdown",
   "id": "3167cbbb-929d-49dd-aa74-85132a94bd22",
   "metadata": {},
   "source": [
    "#### 3.2.3 - Data About South Korean Energy Production"
   ]
  },
  {
   "cell_type": "markdown",
   "id": "82624698-db9c-40a7-86fd-1995c93686a0",
   "metadata": {},
   "source": [
    "Adding the column ISO2:"
   ]
  },
  {
   "cell_type": "code",
   "execution_count": 57,
   "id": "789c472c-c519-4bac-9c7c-88be5fe7152e",
   "metadata": {},
   "outputs": [],
   "source": [
    "rus['ISO2'] = 'RU'"
   ]
  },
  {
   "cell_type": "markdown",
   "id": "6d947b40-0dba-4d5a-b001-67b0c0316f6f",
   "metadata": {},
   "source": [
    "Adding data to the tempe dataframe:"
   ]
  },
  {
   "cell_type": "code",
   "execution_count": 58,
   "id": "b110c5cd-1697-46da-b8ea-90d5c070e336",
   "metadata": {},
   "outputs": [],
   "source": [
    "tempe = pd.concat([tempe,rus.drop(['Access to electricity (% of population)','Value_co2_emissions_t_by_country','Value_co2_emissions_kt_by_country'], axis = 1)])"
   ]
  },
  {
   "cell_type": "markdown",
   "id": "d21abcd6-ead2-444d-bcd6-5b50c363f89d",
   "metadata": {},
   "source": [
    "Adding data about South Korea changing the units to TWh:"
   ]
  },
  {
   "cell_type": "code",
   "execution_count": 59,
   "id": "c7b0b723-3ece-4349-85d5-e3a823a39b51",
   "metadata": {},
   "outputs": [],
   "source": [
    "kor_en['Value'] = kor_en['Value']/1000\n",
    "kor_en.drop('Units', axis = 1, inplace = True)"
   ]
  },
  {
   "cell_type": "markdown",
   "id": "7f52baa7-40a1-4e46-87bd-08e36a4eb2f3",
   "metadata": {},
   "source": [
    "Finding unique values for the energy sources in the dataset:"
   ]
  },
  {
   "cell_type": "code",
   "execution_count": 60,
   "id": "f676f614-075d-4475-8c12-71b2817779ba",
   "metadata": {},
   "outputs": [
    {
     "data": {
      "text/plain": [
       "array(['Coal', 'Oil', 'Natural gas', 'Nuclear', 'Hydro', 'Tide',\n",
       "       'Biofuels', 'Waste', 'Wind', 'Solar PV', 'Other sources'],\n",
       "      dtype=object)"
      ]
     },
     "execution_count": 60,
     "metadata": {},
     "output_type": "execute_result"
    }
   ],
   "source": [
    "kor_en['electricity generation sources in Korea'].unique()"
   ]
  },
  {
   "cell_type": "markdown",
   "id": "89605d79-1810-4ca5-9471-3ffa92ab1bba",
   "metadata": {},
   "source": [
    "Adapting the shape of the rus dataset to that of sus_en:"
   ]
  },
  {
   "cell_type": "code",
   "execution_count": 61,
   "id": "863dcc75-3e90-46ff-96ef-0970f3a3c133",
   "metadata": {},
   "outputs": [],
   "source": [
    "kor_en = kor_en.pivot(columns = 'electricity generation sources in Korea', values = 'Value', index = 'Year').reset_index()\n",
    "\n",
    "kor_en = kor_en[kor_en['Year'] <= 2020]\n",
    "\n",
    "kor_en.fillna(0, inplace = True)\n",
    "\n",
    "kor_en['Electricity from renewables (TWh)'] = kor_en['Hydro'] + kor_en['Biofuels'] + kor_en['Wind'] + kor_en['Solar PV'] + kor_en['Tide']\n",
    "\n",
    "kor_en.rename(columns = {'Nuclear':'Electricity from nuclear (TWh)'}, inplace = True)\n",
    "\n",
    "kor_en['Electricity from fossil fuels (TWh)'] = kor_en['Coal'] + kor_en['Oil'] + kor_en['Natural gas']\n",
    "\n",
    "kor_en.drop(columns = ['Hydro', 'Biofuels', 'Waste', 'Wind', 'Solar PV', 'Tide', 'Coal', 'Oil', 'Natural gas', 'Other sources'], inplace = True)"
   ]
  },
  {
   "cell_type": "markdown",
   "id": "5ea1b2af-fff2-4263-9c05-c24b0ef81f3e",
   "metadata": {},
   "source": [
    "Adding the column Country:"
   ]
  },
  {
   "cell_type": "code",
   "execution_count": 62,
   "id": "5f469094-b0d7-47e1-82b1-a18ba2738b5b",
   "metadata": {},
   "outputs": [],
   "source": [
    "kor_en['Country'] = 'South Korea'"
   ]
  },
  {
   "cell_type": "markdown",
   "id": "abe15bb3-f998-49c5-a3f0-4c645ad5e39d",
   "metadata": {},
   "source": [
    "Adding the column Access to electricity (% of population), always equal to 100% according to the linked page:"
   ]
  },
  {
   "cell_type": "code",
   "execution_count": 63,
   "id": "7b6f8d3c-81f9-47d5-ad67-58fa337d0606",
   "metadata": {},
   "outputs": [],
   "source": [
    "kor_en['Access to electricity (% of population)'] = 100"
   ]
  },
  {
   "cell_type": "markdown",
   "id": "f0e78653-2b0b-48c9-a9a2-a07a1356f56e",
   "metadata": {},
   "source": [
    "Adding data about CO2 emissions:"
   ]
  },
  {
   "cell_type": "code",
   "execution_count": 64,
   "id": "a8236b37-d247-4ded-b8ff-7442ae8d6772",
   "metadata": {},
   "outputs": [],
   "source": [
    "kor_en = kor_en.merge(kor_co2[['Year','Value_co2_emissions_kt_by_country']], on = 'Year')"
   ]
  },
  {
   "cell_type": "markdown",
   "id": "afe77ee4-7586-4506-83db-f065ae59a9e7",
   "metadata": {},
   "source": [
    "Adding data to the sus_en dataframe:"
   ]
  },
  {
   "cell_type": "code",
   "execution_count": 65,
   "id": "ca68e64a-3499-4ded-86bd-ed12d5d867ff",
   "metadata": {},
   "outputs": [],
   "source": [
    "sus_en = pd.concat([sus_en,kor_en])"
   ]
  },
  {
   "cell_type": "markdown",
   "id": "bc630ebd",
   "metadata": {},
   "source": [
    "# Fourth Section - Datasets Creation"
   ]
  },
  {
   "cell_type": "markdown",
   "id": "806d2221",
   "metadata": {},
   "source": [
    "Computing the common countries between the datasets:"
   ]
  },
  {
   "cell_type": "code",
   "execution_count": 66,
   "id": "872eece7",
   "metadata": {},
   "outputs": [
    {
     "data": {
      "text/plain": [
       "array(['Afghanistan', 'Albania', 'Algeria', 'Angola',\n",
       "       'Antigua and Barbuda', 'Argentina', 'Australia', 'Austria',\n",
       "       'Bahamas', 'Bahrain', 'Bangladesh', 'Barbados', 'Belize', 'Benin',\n",
       "       'Bhutan', 'Botswana', 'Brazil', 'Bulgaria', 'Burkina Faso',\n",
       "       'Cambodia', 'Cameroon', 'Canada', 'Cayman Islands',\n",
       "       'Central African Republic', 'Chad', 'Chile', 'China', 'Colombia',\n",
       "       'Comoros', 'Congo', 'Cuba', 'Cyprus', 'Denmark', 'Djibouti',\n",
       "       'Dominica', 'Dominican Republic', 'Ecuador', 'Egypt',\n",
       "       'El Salvador', 'Equatorial Guinea', 'Eswatini', 'Fiji', 'Finland',\n",
       "       'France', 'Gabon', 'Gambia', 'Germany', 'Ghana', 'Greece',\n",
       "       'Grenada', 'Guatemala', 'Guinea', 'Guinea-Bissau', 'Guyana',\n",
       "       'Haiti', 'Honduras', 'Hungary', 'Iceland', 'India', 'Indonesia',\n",
       "       'Iraq', 'Ireland', 'Israel', 'Italy', 'Jamaica', 'Japan', 'Jordan',\n",
       "       'Kenya', 'Kiribati', 'Kuwait', 'Lebanon', 'Lesotho', 'Liberia',\n",
       "       'Libya', 'Madagascar', 'Malawi', 'Malaysia', 'Maldives', 'Mali',\n",
       "       'Malta', 'Mauritania', 'Mauritius', 'Mexico', 'Mongolia',\n",
       "       'Morocco', 'Mozambique', 'Myanmar', 'Namibia', 'Nepal',\n",
       "       'Netherlands', 'New Caledonia', 'New Zealand', 'Nicaragua',\n",
       "       'Niger', 'Nigeria', 'Norway', 'Oman', 'Pakistan', 'Panama',\n",
       "       'Papua New Guinea', 'Paraguay', 'Peru', 'Philippines', 'Poland',\n",
       "       'Portugal', 'Puerto Rico', 'Qatar', 'Romania',\n",
       "       'Saint Kitts and Nevis', 'Saint Lucia',\n",
       "       'Saint Vincent and the Grenadines', 'Samoa',\n",
       "       'Sao Tome and Principe', 'Saudi Arabia', 'Senegal', 'Seychelles',\n",
       "       'Sierra Leone', 'Solomon Islands', 'Somalia', 'South Africa',\n",
       "       'Spain', 'Sri Lanka', 'Suriname', 'Sweden', 'Switzerland',\n",
       "       'Thailand', 'Togo', 'Tonga', 'Trinidad and Tobago', 'Tunisia',\n",
       "       'Tuvalu', 'Uganda', 'United Arab Emirates', 'United Kingdom',\n",
       "       'United States', 'Uruguay', 'Vanuatu', 'Zambia', 'Zimbabwe'],\n",
       "      dtype=object)"
      ]
     },
     "execution_count": 66,
     "metadata": {},
     "output_type": "execute_result"
    }
   ],
   "source": [
    "common_countries = np.intersect1d(sus_en_country, tempe_country)\n",
    "common_countries"
   ]
  },
  {
   "cell_type": "markdown",
   "id": "9fe85b34",
   "metadata": {},
   "source": [
    "Computing the different countries between the datasets:"
   ]
  },
  {
   "cell_type": "code",
   "execution_count": 67,
   "id": "8173ace6",
   "metadata": {},
   "outputs": [
    {
     "data": {
      "text/plain": [
       "array(['Andorra', 'Anguilla', 'Armenia', 'Aruba', 'Azerbaijan', 'Belarus',\n",
       "       'Belgium', 'Bermuda', 'Bolivia', 'Bosnia and Herzegovina',\n",
       "       'Brunei', 'Burundi', 'Cape Verde', 'Cook Islands', 'Costa Rica',\n",
       "       'Croatia', 'Czechia', 'Democratic Republic of Congo', 'Eritrea',\n",
       "       'Estonia', 'Ethiopia', 'Faroe Islands', 'French Guiana',\n",
       "       'French Polynesia', 'Georgia', 'Gibraltar', 'Greenland',\n",
       "       'Guadeloupe', 'Hong Kong', 'Iran', 'Isle of Man', 'Kazakhstan',\n",
       "       'Kyrgyzstan', 'Laos', 'Latvia', 'Liechtenstein', 'Lithuania',\n",
       "       'Luxembourg', 'Macao', 'Martinique', 'Mayotte', 'Monaco',\n",
       "       'Montenegro', 'Montserrat', 'Nauru', 'Norfolk Island',\n",
       "       'North Korea', 'North Macedonia', 'Palestine', 'Rwanda',\n",
       "       'Saint Helena', 'Saint Pierre and Miquelon', 'San Marino',\n",
       "       'Serbia', 'Singapore', 'Slovakia', 'Slovenia', 'South Korea',\n",
       "       'South Sudan', 'Sudan', 'Syria', 'Taiwan', 'Tajikistan',\n",
       "       'Tanzania', 'Turkey', 'Turkmenistan', 'Turks and Caicos Islands',\n",
       "       'Ukraine', 'Uzbekistan', 'Vatican', 'Venezuela', 'Vietnam',\n",
       "       'Virgin Islands UK', 'Virgin Islands US',\n",
       "       'Wallis and Futuna Islands', 'Western Sahara', 'World', 'Yemen'],\n",
       "      dtype=object)"
      ]
     },
     "execution_count": 67,
     "metadata": {},
     "output_type": "execute_result"
    }
   ],
   "source": [
    "different_countries = np.setxor1d(sus_en_country, tempe_country)\n",
    "\n",
    "different_countries"
   ]
  },
  {
   "cell_type": "markdown",
   "id": "ed238804",
   "metadata": {},
   "source": [
    "## 4.1 - General Dataset"
   ]
  },
  {
   "cell_type": "markdown",
   "id": "72f1e3b2",
   "metadata": {},
   "source": [
    "Merging sustainable energy and temperature datasets:"
   ]
  },
  {
   "cell_type": "code",
   "execution_count": 68,
   "id": "a6f57837",
   "metadata": {},
   "outputs": [],
   "source": [
    "dataset = sus_en.merge(tempe[(tempe['Year']>1999) & (tempe['Year']<2021)], how='outer', on=['Country', 'Year'])"
   ]
  },
  {
   "cell_type": "markdown",
   "id": "a53c15d4",
   "metadata": {},
   "source": [
    "Grouping country regions in a dataset:"
   ]
  },
  {
   "cell_type": "code",
   "execution_count": 69,
   "id": "ec047808",
   "metadata": {},
   "outputs": [],
   "source": [
    "# Assigning a region to each country\n",
    "countrydict = {'Afghanistan' : 'ND',\n",
    "               'Albania' : 'ND',\n",
    "               'Algeria' : 'Northern Africa',\n",
    "               'Andorra' : 'ND',\n",
    "               'Angola' : 'Subsaharan Africa',\n",
    "               'Anguilla' : 'ND',\n",
    "               'Antigua and Barbuda' : 'ND',\n",
    "               'Arab States (UNDP)' : 'ND',\n",
    "               'Argentina' : 'Central and Southern America',\n",
    "               'Armenia' : 'ND',\n",
    "               'Aruba' : 'ND',\n",
    "               'Australia' : 'Australia and New Zealand',\n",
    "               'Austria' : 'European Union',\n",
    "               'Azerbaijan' : 'ND',\n",
    "               'Bahamas' : 'ND',\n",
    "               'Bahrain' : 'Arabian Peninsula',\n",
    "               'Bangladesh' : 'ND',\n",
    "               'Barbados' : 'ND',\n",
    "               'Belarus' : 'ND',\n",
    "               'Belgium' : 'European Union',\n",
    "               'Belize' : 'Central and Southern America',\n",
    "               'Benin' : 'Subsaharan Africa',\n",
    "               'Bermuda' : 'ND',\n",
    "               'Bhutan' : 'ND',\n",
    "               'Bolivia' : 'Central and Southern America',\n",
    "               'Bosnia and Herzegovina' : 'ND',\n",
    "               'Botswana' : 'Subsaharan Africa',\n",
    "               'Brazil' : 'Central and Southern America',\n",
    "               'Brunei' : 'ND',\n",
    "               'Bulgaria' : 'European Union',\n",
    "               'Burkina Faso' : 'Subsaharan Africa',\n",
    "               'Burundi' : 'Subsaharan Africa',\n",
    "               'Cambodia' : 'ND',\n",
    "               'Cameroon' : 'Subsaharan Africa',\n",
    "               'Canada' : 'Canada',\n",
    "               'Cape Verde' : 'ND',\n",
    "               'Cayman Islands' : 'ND',\n",
    "               'Central African Republic' : 'Subsaharan Africa',\n",
    "               'Chad' : 'Subsaharan Africa',\n",
    "               'Chile' : 'Central and Southern America',\n",
    "               'China' : 'China',\n",
    "               'Colombia' : 'Central and Southern America',\n",
    "               'Comoros' : 'ND',\n",
    "               'Congo' : 'Subsaharan Africa',\n",
    "               'Cook Islands' : 'ND',\n",
    "               'Costa Rica' : 'Central and Southern America',\n",
    "               \"Cote d'Ivoire\" : 'Subsaharan Africa',\n",
    "               'Croatia' : 'European Union',\n",
    "               'Cuba' : 'Central and Southern America',\n",
    "               'Cyprus' : 'European Union',\n",
    "               'Czechia' : 'European Union',\n",
    "               'Democratic Republic of Congo' : 'Subsaharan Africa',\n",
    "               'Denmark' : 'European Union',\n",
    "               'Djibouti' : 'Subsaharan Africa',\n",
    "               'Dominica' : 'ND',\n",
    "               'Dominican Republic' : 'Central and Southern America',\n",
    "               'East Asia and the Pacific (UNDP)' : 'ND',\n",
    "               'East Timor' : 'ND',\n",
    "               'Ecuador' : 'Central and Southern America',\n",
    "               'Egypt' : 'Northern Africa',\n",
    "               'El Salvador' : 'Central and Southern America',\n",
    "               'Equatorial Guinea' : 'Subsaharan Africa',\n",
    "               'Eritrea' : 'Subsaharan Africa',\n",
    "               'Estonia' : 'European Union',\n",
    "               'Eswatini' : 'Subsaharan Africa',\n",
    "               'Ethiopia' : 'Subsaharan Africa',\n",
    "               'Europe and Central Asia (UNDP)' : 'ND',\n",
    "               'Faroe Islands' : 'ND',\n",
    "               'Fiji' : 'ND',\n",
    "               'Finland' : 'European Union',\n",
    "               'France' : 'European Union',\n",
    "               'French Guiana' : 'ND',\n",
    "               'French Polynesia' :'ND',\n",
    "               'Gabon' : 'Subsaharan Africa',\n",
    "               'Gambia' : 'Subsaharan Africa',\n",
    "               'Georgia' : 'ND',\n",
    "               'Germany' :'European Union',\n",
    "               'Ghana' : 'Subsaharan Africa',\n",
    "               'Gibraltar' : 'ND',\n",
    "               'Greece' : 'European Union',\n",
    "               'Greenland' : 'ND',\n",
    "               'Grenada' : 'ND',\n",
    "               'Guadeloupe' : 'ND',\n",
    "               'Guatemala' : 'Central and Southern America',\n",
    "               'Guinea' : 'Subsaharan Africa',\n",
    "               'Guinea-Bissau' : 'Subsaharan Africa',\n",
    "               'Guyana' : 'Central and Southern America',\n",
    "               'Haiti' : 'Central and Southern America',\n",
    "               'High human development (UNDP)' : 'ND',\n",
    "               'Honduras' : 'Central and Southern America',\n",
    "               'Hong Kong' : 'ND',\n",
    "               'Hungary' : 'European Union',\n",
    "               'Iceland' : 'ND',\n",
    "               'India' : 'India',\n",
    "               'Indonesia' : 'ND',\n",
    "               'Iran' : 'ND',\n",
    "               'Iraq' : 'Arabian Peninsula',\n",
    "               'Ireland' : 'European Union',\n",
    "               'Isle of Man' : 'ND',\n",
    "               'Israel' : 'ND',\n",
    "               'Italy' : 'European Union',\n",
    "               'Jamaica' : 'Central and Southern America',\n",
    "               'Japan' : 'Japan and Korea',\n",
    "               'Jordan' : 'Arabian Peninsula',\n",
    "               'Kazakhstan' : 'Central Asia',\n",
    "               'Kenya' : 'Subsaharan Africa',\n",
    "               'Kiribati' : 'ND',\n",
    "               'Korea' : 'Japan and Korea',\n",
    "               'Kuwait' : 'Arabian Peninsula',\n",
    "               'Kyrgyzstan' : 'Central Asia',\n",
    "               'Laos' : 'ND',\n",
    "               'Latin America and the Caribbean (UNDP)' : 'ND',\n",
    "               'Latvia' : 'European Union',\n",
    "               'Lebanon' : 'ND',\n",
    "               'Lesotho' : 'Subsaharan Africa',\n",
    "               'Liberia' : 'Subsaharan Africa',\n",
    "               'Libya' : 'Northern Africa',\n",
    "               'Liechtenstein' : 'ND',\n",
    "               'Lithuania' : 'European Union',\n",
    "               'Low human development (UNDP)' : 'ND',\n",
    "               'Luxembourg' : 'European Union',\n",
    "               'Macao' : 'ND',\n",
    "               'Madagascar' : 'Subsaharan Africa',\n",
    "               'Malawi' : 'Subsaharan Africa',\n",
    "               'Malaysia' : 'ND',\n",
    "               'Maldives' : 'ND',\n",
    "               'Mali' : 'Subsaharan Africa',\n",
    "               'Malta' : 'European Union',\n",
    "               'Marshall Islands' : 'ND',\n",
    "               'Martinique' : 'ND',\n",
    "               'Mauritania' : 'Subsaharan Africa',\n",
    "               'Mauritius' : 'ND',\n",
    "               'Mayotte' : 'ND',\n",
    "               'Medium human development (UNDP)' : 'ND',\n",
    "               'Mexico' : 'Central and Southern America',\n",
    "               'Micronesia (country)' : 'ND',\n",
    "               'Moldova' : 'ND',\n",
    "               'Monaco' : 'ND',\n",
    "               'Mongolia' : 'Central Asia',\n",
    "               'Montenegro' : 'ND',\n",
    "               'Montserrat' : 'ND',\n",
    "               'Morocco' : 'Northern Africa',\n",
    "               'Mozambique' : 'Subsaharan Africa',\n",
    "               'Myanmar' : 'ND',\n",
    "               'Namibia' : 'Subsaharan Africa',\n",
    "               'Nauru' : 'ND',\n",
    "               'Nepal' : 'ND',\n",
    "               'Netherlands' : 'European Union',\n",
    "               'New Caledonia' : 'ND',\n",
    "               'New Zealand' : 'Australia and New Zealand',\n",
    "               'Nicaragua' : 'Central and Southern America',\n",
    "               'Niger' : 'Subsaharan Africa',\n",
    "               'Nigeria' : 'Subsaharan Africa',\n",
    "               'Norfolk Island' : 'ND',\n",
    "               'North Korea' : 'ND',\n",
    "               'North Macedonia' : 'ND',\n",
    "               'Norway' : 'ND',\n",
    "               'Oman' : 'Arabian Peninsula',\n",
    "               'Pakistan' : 'ND',\n",
    "               'Palau' : 'ND',\n",
    "               'Palestine' : 'ND',\n",
    "               'Panama' : 'Central and Southern America',\n",
    "               'Papua New Guinea' : 'ND',\n",
    "               'Paraguay' : 'Central and Southern America',\n",
    "               'Peru' : 'Central and Southern America',\n",
    "               'Philippines' : 'ND',\n",
    "               'Poland' : 'European Union',\n",
    "               'Portugal' : 'European Union',\n",
    "               'Puerto Rico' : 'Central and Southern America',\n",
    "               'Qatar' : 'Arabian Peninsula',\n",
    "               'Romania' : 'European Union',\n",
    "               'Russia' : 'Russia',\n",
    "               'Rwanda' : 'Subsaharan Africa',\n",
    "               'Saint Helena' : 'ND',\n",
    "               'Saint Kitts and Nevis' : 'ND',\n",
    "               'Saint Lucia' : 'ND',\n",
    "               'Saint Pierre and Miquelon' : 'ND',\n",
    "               'Saint Vincent and the Grenadines' : 'ND',\n",
    "               'Samoa' : 'ND',\n",
    "               'San Marino' : 'ND',\n",
    "               'Sao Tome and Principe' : 'ND',\n",
    "               'Saudi Arabia' : 'Arabian Peninsula',\n",
    "               'Senegal' : 'Subsaharan Africa',\n",
    "               'Serbia' : 'ND',\n",
    "               'Seychelles' : 'ND',\n",
    "               'Sierra Leone' : 'Subsaharan Africa',\n",
    "               'Singapore' : 'ND',\n",
    "               'Slovakia' : 'European Union',\n",
    "               'Slovenia' : 'European Union',\n",
    "               'Solomon Islands' : 'ND',\n",
    "               'Somalia' : 'Subsaharan Africa',\n",
    "               'South Africa' : 'Subsaharan Africa',\n",
    "               'South Asia (UNDP)' : 'ND',\n",
    "               'South Korea' : 'Japan and Korea',\n",
    "               'South Sudan' : 'Subsaharan Africa',\n",
    "               'Spain' : 'European Union',\n",
    "               'Sri Lanka' : 'ND',\n",
    "               'Sub-Saharan Africa (UNDP)' : 'ND',\n",
    "               'Sudan' : 'Subsaharan Africa',\n",
    "               'Suriname' : 'Central and Southern America',\n",
    "               'Sweden' : 'European Union',\n",
    "               'Switzerland' : 'ND',\n",
    "               'Syria' : 'ND',\n",
    "               'Taiwan' : 'ND',\n",
    "               'Tajikistan' : 'Central Asia',\n",
    "               'Tanzania' : 'Subsaharan Africa',\n",
    "               'Thailand' : 'ND',\n",
    "               'Togo' : 'Subsaharan Africa',\n",
    "               'Tonga' : 'ND',\n",
    "               'Trinidad and Tobago' : 'ND',\n",
    "               'Tunisia' : 'Northern Africa',\n",
    "               'Turkey' : 'ND',\n",
    "               'Turkmenistan' : 'Central Asia',\n",
    "               'Turks and Caicos Islands' : 'ND',\n",
    "               'Tuvalu' : 'ND',\n",
    "               'Uganda' : 'Subsaharan Africa',\n",
    "               'Ukraine' : 'ND',\n",
    "               'United Arab Emirates' : 'Arabian Peninsula',\n",
    "               'United Kingdom' : 'United Kingdom',\n",
    "               'United States' : 'United States',\n",
    "               'Uruguay' : 'Central and Southern America',\n",
    "               'Uzbekistan' : 'Central Asia',\n",
    "               'Vanuatu' : 'ND',\n",
    "               'Vatican' : 'ND',\n",
    "               'Venezuela' : 'Central and Southern America',\n",
    "               'Very high human development (UNDP)' : 'ND',\n",
    "               'Vietnam' : 'ND',\n",
    "               'Virgin Islands UK' : 'ND',\n",
    "               'Virgin Islands US' : 'ND',\n",
    "               'Wallis and Futuna Islands' : 'ND',\n",
    "               'Western Sahara' : 'Northern Africa',\n",
    "               'World' : 'ND',\n",
    "               'Yemen' : 'Arabian Peninsula',\n",
    "               'Zambia' : 'Subsaharan Africa',\n",
    "               'Zimbabwe' : 'Subsaharan Africa'\n",
    "              }"
   ]
  },
  {
   "cell_type": "code",
   "execution_count": 70,
   "id": "434265e8",
   "metadata": {},
   "outputs": [],
   "source": [
    "# Creating a region dataset\n",
    "countryset = pd.Series(countrydict).reset_index()\n",
    "countryset.columns = ['Country', 'Region']"
   ]
  },
  {
   "cell_type": "markdown",
   "id": "be0df56f",
   "metadata": {},
   "source": [
    "Merging the region dataset to the complete dataset:"
   ]
  },
  {
   "cell_type": "code",
   "execution_count": 71,
   "id": "44389f75",
   "metadata": {},
   "outputs": [],
   "source": [
    "dataset = dataset.merge(countryset, on=['Country'])"
   ]
  },
  {
   "cell_type": "markdown",
   "id": "cf0b1b4e",
   "metadata": {},
   "source": [
    "Exporting the general dataset:"
   ]
  },
  {
   "cell_type": "code",
   "execution_count": 72,
   "id": "9fb9df7f",
   "metadata": {},
   "outputs": [],
   "source": [
    "dataset.to_csv('dataset.csv')"
   ]
  },
  {
   "cell_type": "markdown",
   "id": "144f043a",
   "metadata": {},
   "source": [
    "## 4.2 - Energy Dataset"
   ]
  },
  {
   "cell_type": "markdown",
   "id": "e34104fb",
   "metadata": {},
   "source": [
    "Selecting the columns of interest:"
   ]
  },
  {
   "cell_type": "code",
   "execution_count": 73,
   "id": "29d485b2",
   "metadata": {},
   "outputs": [],
   "source": [
    "temp_dataset = dataset[['Country', 'Year', 'Electricity from fossil fuels (TWh)', 'Electricity from nuclear (TWh)', 'Electricity from renewables (TWh)', 'Region']]"
   ]
  },
  {
   "cell_type": "markdown",
   "id": "b9e31d75-c63a-4e86-b4bd-f8b93f6e5f6d",
   "metadata": {},
   "source": [
    "Changing columns names to enhance readability in LOoker Studio"
   ]
  },
  {
   "cell_type": "code",
   "execution_count": 74,
   "id": "6f748fef-cb10-491e-9eca-d15d7cc2f9c0",
   "metadata": {},
   "outputs": [],
   "source": [
    "temp_dataset.rename(columns={'Electricity from fossil fuels (TWh)':'Fossil Fuels','Electricity from nuclear (TWh)':'Nuclear','Electricity from renewables (TWh)':'Renewables'},inplace=True)"
   ]
  },
  {
   "cell_type": "markdown",
   "id": "4bb480fb",
   "metadata": {},
   "source": [
    "Unpivoting the dataset to obtain a new column 'Energy Source':"
   ]
  },
  {
   "cell_type": "code",
   "execution_count": 75,
   "id": "11850312",
   "metadata": {},
   "outputs": [],
   "source": [
    "energy_dataset = temp_dataset.melt(id_vars=['Country', 'Year', 'Region'], var_name=' Energy Source', value_name='Energy Output (TWh)')"
   ]
  },
  {
   "cell_type": "markdown",
   "id": "531dd296",
   "metadata": {},
   "source": [
    "Exporting the dataset:"
   ]
  },
  {
   "cell_type": "code",
   "execution_count": 76,
   "id": "11312d13",
   "metadata": {},
   "outputs": [],
   "source": [
    "energy_dataset.to_csv('energy_dataset.csv')"
   ]
  },
  {
   "cell_type": "markdown",
   "id": "d7c4e84f",
   "metadata": {},
   "source": [
    "## 4.3 - Bubble Chart Dataset"
   ]
  },
  {
   "cell_type": "markdown",
   "id": "e83843a2",
   "metadata": {},
   "source": [
    "Merging GDP and population datasets to the general dataset:"
   ]
  },
  {
   "cell_type": "code",
   "execution_count": 77,
   "id": "10715346",
   "metadata": {},
   "outputs": [],
   "source": [
    "bubble_dataset = dataset[dataset['Region']!='ND'].merge(\n",
    "    gdp, how='left', on=['Country', 'Year']\n",
    "    ).merge(\n",
    "    pop, how='left', on=['Country', 'Year'])"
   ]
  },
  {
   "cell_type": "markdown",
   "id": "797318f0",
   "metadata": {},
   "source": [
    "Removing all rows with missing data on the columns of interest:"
   ]
  },
  {
   "cell_type": "code",
   "execution_count": 78,
   "id": "10dd7aed",
   "metadata": {},
   "outputs": [],
   "source": [
    "bubble_dataset = bubble_dataset[(bubble_dataset['GDP'].notnull())\n",
    "                                & (bubble_dataset['Population'].notnull())\n",
    "                                & (bubble_dataset['Value_co2_emissions_kt_by_country'].notnull())\n",
    "                                & (bubble_dataset['Electricity from nuclear (TWh)'].notnull())\n",
    "                                & (bubble_dataset['Electricity from renewables (TWh)'].notnull())\n",
    "                                & (bubble_dataset['Electricity from fossil fuels (TWh)'].notnull())\n",
    "                               ]"
   ]
  },
  {
   "cell_type": "markdown",
   "id": "54f2fe50",
   "metadata": {},
   "source": [
    "Computing the GDP per capita:"
   ]
  },
  {
   "cell_type": "code",
   "execution_count": 79,
   "id": "f2a22393",
   "metadata": {},
   "outputs": [],
   "source": [
    "gdp_capita = bubble_dataset.groupby(['Region', 'Year']).sum()['GDP'] / bubble_dataset.groupby(['Region', 'Year']).sum()['Population']"
   ]
  },
  {
   "cell_type": "markdown",
   "id": "d0d80669",
   "metadata": {},
   "source": [
    "Computing the CO2 emissions per capita:"
   ]
  },
  {
   "cell_type": "code",
   "execution_count": 80,
   "id": "5923e96e",
   "metadata": {},
   "outputs": [],
   "source": [
    "co2_capita = bubble_dataset.groupby(['Region', 'Year']).sum()['Value_co2_emissions_kt_by_country'] / bubble_dataset.groupby(['Region', 'Year']).sum()['Population']"
   ]
  },
  {
   "cell_type": "markdown",
   "id": "8b888a60",
   "metadata": {},
   "source": [
    "Computing the clean energy production per capita:"
   ]
  },
  {
   "cell_type": "code",
   "execution_count": 81,
   "id": "a3d22681",
   "metadata": {},
   "outputs": [],
   "source": [
    "bubble_sum = bubble_dataset.groupby(['Region', 'Year']).sum()"
   ]
  },
  {
   "cell_type": "code",
   "execution_count": 82,
   "id": "03bb215d",
   "metadata": {},
   "outputs": [],
   "source": [
    "green_capita = ((bubble_sum['Electricity from nuclear (TWh)']+bubble_sum['Electricity from renewables (TWh)'])/bubble_sum['Population'])*10**9"
   ]
  },
  {
   "cell_type": "markdown",
   "id": "c3d48c05",
   "metadata": {},
   "source": [
    "Joining all the datasets:"
   ]
  },
  {
   "cell_type": "code",
   "execution_count": 83,
   "id": "0a29351e",
   "metadata": {},
   "outputs": [],
   "source": [
    "bubble_dataset = co2_capita.to_frame(name='CO2 emissions per capita').join(\n",
    "    [green_capita.rename('Green energy per capita'), gdp_capita.rename('GDP per capita')])"
   ]
  },
  {
   "cell_type": "markdown",
   "id": "2e4ffa93-d6d2-46d0-8c4d-e45dbb03d3a5",
   "metadata": {},
   "source": [
    "Exporting the dataset:"
   ]
  },
  {
   "cell_type": "code",
   "execution_count": 84,
   "id": "841dbc4c",
   "metadata": {},
   "outputs": [],
   "source": [
    "bubble_dataset.to_csv('bubble_dataset.csv')"
   ]
  }
 ],
 "metadata": {
  "kernelspec": {
   "display_name": "Python 3 (ipykernel)",
   "language": "python",
   "name": "python3"
  },
  "language_info": {
   "codemirror_mode": {
    "name": "ipython",
    "version": 3
   },
   "file_extension": ".py",
   "mimetype": "text/x-python",
   "name": "python",
   "nbconvert_exporter": "python",
   "pygments_lexer": "ipython3",
   "version": "3.12.7"
  }
 },
 "nbformat": 4,
 "nbformat_minor": 5
}
